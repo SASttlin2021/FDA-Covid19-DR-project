{
 "cells": [
  {
   "cell_type": "markdown",
   "source": [
    "# Read clinical-trials covid dataset to set \"truth\"\n",
    " match to drugs in DrugBank based on Name <br>\n",
    " requires parsing out and cleansing drug-name from the <font color=blue><b>Interventions</b></font> column"
   ],
   "metadata": {}
  },
  {
   "cell_type": "markdown",
   "source": [
    "### Additional Steps - for future consideration\n",
    "Consider parsing <font color=blue>Title</font> field to get phase of clinical trial ?<br>\n",
    "Consider using <font color=blue>URL</font> column to link to FDA web data<br>\n",
    "<br>\n",
    "Consider keeping <font color=blue>Status</font> and <font color=blue>Study Results</font>\n",
    "<br>\n",
    "See section below for including an external manual re-mapping of drugs"
   ],
   "metadata": {}
  },
  {
   "cell_type": "code",
   "execution_count": null,
   "source": [
    "#import other packages\n",
    "import pandas as pd\n",
    "import numpy as np\n",
    "import os\n",
    "#from itertools import chain\n",
    "import time\n",
    "import getpass\n"
   ],
   "outputs": [],
   "metadata": {}
  },
  {
   "cell_type": "code",
   "execution_count": null,
   "source": [
    "print(os.getcwd())\n",
    "FDAPath = os.getcwd() + '/../data/source/'\n",
    "CTPath = FDAPath + 'ClinicalTrials/'\n",
    "DBPath = FDAPath + \"DrugBank/\"\n",
    "\n",
    "os.chdir(CTPath)\n",
    "print(os.getcwd())\n"
   ],
   "outputs": [],
   "metadata": {}
  },
  {
   "cell_type": "code",
   "execution_count": null,
   "source": [],
   "outputs": [],
   "metadata": {}
  },
  {
   "cell_type": "code",
   "execution_count": null,
   "source": [
    "# create process to explode columns with multiple delimited values\n",
    "#  takes an array column with ['drug: drug1', 'drug: drug2', 'other: ']\n",
    "def explode(df, lst_cols, fill_value='', preserve_index=False):\n",
    "    # make sure `lst_cols` is list-alike\n",
    "    if (lst_cols is not None\n",
    "        and len(lst_cols) > 0\n",
    "        and not isinstance(lst_cols, (list, tuple, np.ndarray, pd.Series))):\n",
    "        lst_cols = [lst_cols]\n",
    "    # all columns except `lst_cols`\n",
    "    idx_cols = df.columns.difference(lst_cols)\n",
    "    # calculate lengths of lists\n",
    "    lens = df[lst_cols[0]].str.len()\n",
    "    # preserve original index values    \n",
    "    idx = np.repeat(df.index.values, lens)\n",
    "    # create \"exploded\" DF\n",
    "    res = (pd.DataFrame({\n",
    "                col:np.repeat(df[col].values, lens)\n",
    "                for col in idx_cols},\n",
    "                index=idx)\n",
    "             .assign(**{col:np.concatenate(df.loc[lens>0, col].values)\n",
    "                            for col in lst_cols}))\n",
    "    # append those rows that have empty lists\n",
    "    if (lens == 0).any():\n",
    "        # at least one list in cells is empty\n",
    "        res = (res.append(df.loc[lens==0, idx_cols], sort=False)\n",
    "                  .fillna(fill_value))\n",
    "    # revert the original index order\n",
    "    res = res.sort_index()\n",
    "    # reset index if requested\n",
    "    if not preserve_index:        \n",
    "        res = res.reset_index(drop=True)\n",
    "    return res"
   ],
   "outputs": [],
   "metadata": {}
  },
  {
   "cell_type": "code",
   "execution_count": null,
   "source": [
    "display(\"reading: \" + CTPath + 'clinicaltrial_covid.csv')\n",
    "ctrials_df = pd.read_csv(CTPath + 'clinicaltrial_covid.csv')\n",
    "ctrials_df.dropna(subset=['Interventions'], inplace=True) # if interventions column is blank.  drop row\n",
    "display(ctrials_df.head())\n"
   ],
   "outputs": [],
   "metadata": {
    "scrolled": true
   }
  },
  {
   "cell_type": "code",
   "execution_count": null,
   "source": [
    "# would need to parse title for phase\n"
   ],
   "outputs": [],
   "metadata": {}
  },
  {
   "cell_type": "code",
   "execution_count": null,
   "source": [
    "#ctrials_df[['Rank', 'Title', 'Interventions']].set_index(['Rank', 'Title'])['Interventions'].str.split('|')\n",
    "ctrials_df.set_index(['Rank'], inplace=True)\n",
    "\n",
    "ctrials_df['s1'] = ctrials_df['Interventions'].str.split('|')\n",
    "display(ctrials_df.shape)\n",
    "display(ctrials_df['Interventions'].__class__)\n",
    "display(ctrials_df['s1'].__class__)\n",
    "display(ctrials_df.__class__)\n",
    "display(ctrials_df[['Interventions','s1']].head())\n"
   ],
   "outputs": [],
   "metadata": {
    "scrolled": false
   }
  },
  {
   "cell_type": "code",
   "execution_count": null,
   "source": [
    "# now create one row for each array element in column s1\n",
    "ctrials_df = explode(ctrials_df, 's1', preserve_index=True)\n",
    "ctrials_df.reset_index(inplace=True)\n",
    "display(ctrials_df.shape)\n",
    "display(ctrials_df.head())\n"
   ],
   "outputs": [],
   "metadata": {
    "scrolled": true
   }
  },
  {
   "cell_type": "code",
   "execution_count": null,
   "source": [
    "new = ctrials_df[\"s1\"].str.split(\":\", n = 1, expand = True) \n",
    "#display(new)\n",
    "\n",
    "ctrials_df[\"iType\"]= new[0].astype('str').str.strip()\n",
    "ctrials_df[\"iName\"]= new[1].astype('str').str.strip()\n"
   ],
   "outputs": [],
   "metadata": {
    "scrolled": true
   }
  },
  {
   "cell_type": "code",
   "execution_count": null,
   "source": [
    "del new\n",
    "\n",
    "# Dropping old Name columns \n",
    "ctrials_df.drop(columns =['Interventions', \"s1\"], inplace = True)\n"
   ],
   "outputs": [],
   "metadata": {}
  },
  {
   "cell_type": "code",
   "execution_count": null,
   "source": [
    "# show count of rows by intervention type - only some should contain small-molecule drugs\n",
    "#  but the classification is not consistently accurate so use all to find matches\n",
    "display(pd.DataFrame(ctrials_df.groupby(['iType'])['iType'].count()))\n"
   ],
   "outputs": [],
   "metadata": {
    "scrolled": false
   }
  },
  {
   "cell_type": "code",
   "execution_count": null,
   "source": [
    "# consider adding index/id of clinical trials input as a column of arrays\n",
    "\n",
    "# keep only rows with intervention type of \"Drug\"\n",
    "ctrials_drugs_df = ctrials_df[ ctrials_df['iType'] == 'Drug' ] \n",
    "\n",
    "# check results\n",
    "display('ctrials_drugs_df shape (rows, columns)', ctrials_drugs_df.shape)\n",
    "print()\n",
    "\n",
    "# get input row IDs for each iType + iName\n",
    "df2 = pd.DataFrame(ctrials_drugs_df[['iType', 'iName', 'index']].groupby(['iType', 'iName']).aggregate(lambda tdf: np.array(tdf.unique())))\n",
    "df2.columns = ['inputRowIDs']\n",
    "\n",
    "# counting number of row IDs for each iType + iName\n",
    "Drug_iNames_df = pd.DataFrame(ctrials_drugs_df.groupby(['iType', 'iName'])['iType'].count())\n",
    "Drug_iNames_df.columns = ['inputRowCount']\n",
    "Drug_iNames_df['inputRowIDs'] = df2['inputRowIDs']\n",
    "Drug_iNames_df.reset_index(inplace=True)\n",
    "display(\"drug_iNames_df has one row per intervention name plus descriptive columns:\", Drug_iNames_df.shape)\n",
    "display(Drug_iNames_df[15:20])\n",
    "\n",
    "# cleanup memory\n",
    "del df2\n"
   ],
   "outputs": [],
   "metadata": {}
  },
  {
   "cell_type": "code",
   "execution_count": null,
   "source": [
    "# repeat processing above for ALL intervention types\n",
    "# keep only rows with intervention type of \"Drug\"\n",
    "allctrials_drugs_df = ctrials_df \n",
    "\n",
    "# check results\n",
    "display('ctrials_drugs_df shape (rows, columns)', allctrials_drugs_df.shape)\n",
    "print()\n",
    "\n",
    "# get input row IDs for each iType + iName\n",
    "df2 = pd.DataFrame(allctrials_drugs_df[['iName', 'index']].groupby(['iName']).aggregate(lambda tdf: np.array(tdf.unique())))\n",
    "df2.columns = ['inputRowIDs']\n",
    "\n",
    "# counting number of row IDs for each iType + iName\n",
    "allDrug_iNames_df = pd.DataFrame(allctrials_drugs_df.groupby(['iName'])['iName'].count())\n",
    "allDrug_iNames_df.columns = ['inputRowCount']\n",
    "allDrug_iNames_df['inputRowIDs'] = df2['inputRowIDs']\n",
    "allDrug_iNames_df.reset_index(inplace=True)\n",
    "display(\"drug_iNames_df has one row per intervention name plus descriptive columns:\", allDrug_iNames_df.shape)\n",
    "display(allDrug_iNames_df[15:20])\n",
    "\n",
    "# cleanup memory\n",
    "del df2\n"
   ],
   "outputs": [],
   "metadata": {}
  },
  {
   "cell_type": "markdown",
   "source": [
    "# Load synonyms from DrugBank"
   ],
   "metadata": {}
  },
  {
   "cell_type": "code",
   "execution_count": null,
   "source": [
    "# app.py\n",
    "\n",
    "import json\n",
    "\n",
    "fObj = open(DBPath+'DrugBank_CSVs/aliases.json',)\n",
    "DBAlias = json.load(fObj)\n",
    "fObj.close()\n",
    "\n",
    "print(DBAlias.__class__)\n",
    "display(DBAlias['DB12466'])\n",
    "display(DBAlias[\"DB15327\"])\n",
    "#display(DBAlias[\"DB00898\"]) # prednisone\n",
    "\n"
   ],
   "outputs": [],
   "metadata": {
    "scrolled": false
   }
  },
  {
   "cell_type": "markdown",
   "source": [
    "# match intervention Names against Drug Bank to identify DB-IDs"
   ],
   "metadata": {}
  },
  {
   "cell_type": "code",
   "execution_count": null,
   "source": [
    "# search dict in DBAlias format to return ID if element of an array matches\n",
    "def searchDBAlias(byVal):\n",
    "    keysList = []\n",
    "    itemsList = DBAlias.items()\n",
    "    for item in itemsList:\n",
    "        if byVal in item[1]:\n",
    "            keysList.append(item[0])\n",
    "    return keysList"
   ],
   "outputs": [],
   "metadata": {}
  },
  {
   "cell_type": "code",
   "execution_count": null,
   "source": [
    "# this could be sped up if it becomes an issue\n",
    "start = time.time()\n",
    "Drug_iNames_df['iDBID'] = Drug_iNames_df['iName'].apply(searchDBAlias)\n",
    "lapse = time.time() - start \n",
    "print(\"lapse time to match: \", lapse)\n"
   ],
   "outputs": [],
   "metadata": {}
  },
  {
   "cell_type": "code",
   "execution_count": null,
   "source": [
    "Drug_iNames_df['iDBIDCount'] = Drug_iNames_df['iDBID'].astype('str').str.count(\"'\")/2 #.str.shape()\n",
    "display(\"Table of DrugBank matches found by intervention name\", Drug_iNames_df['iDBIDCount'].value_counts())\n",
    "\n",
    "#display(Drug_iNames_df['iDBID'].__class__)\n",
    "#display(Drug_iNames_df['iDBID'].astype('str').__class__)\n",
    "#display(Drug_iNames_df['iDBID'].astype('str')[250])\n",
    "#display(Drug_iNames_df['iDBID'].astype('str')[400:410])\n"
   ],
   "outputs": [],
   "metadata": {
    "scrolled": true
   }
  },
  {
   "cell_type": "code",
   "execution_count": null,
   "source": [
    "display(\"intervention names matching 2 Drug Bank entries\", Drug_iNames_df[Drug_iNames_df['iDBIDCount']==2])\n"
   ],
   "outputs": [],
   "metadata": {}
  },
  {
   "cell_type": "code",
   "execution_count": null,
   "source": [
    "display(\"sample of intervention names matching 1 Drug Bank entries\", Drug_iNames_df[Drug_iNames_df['iDBIDCount']==1].head())\n"
   ],
   "outputs": [],
   "metadata": {
    "scrolled": true
   }
  },
  {
   "cell_type": "code",
   "execution_count": null,
   "source": [
    "# repeat matching - but for ALL intervention types to see if drugs in drug bank were misclassified\n",
    "start = time.time()\n",
    "allDrug_iNames_df['iDBID'] = allDrug_iNames_df['iName'].apply(searchDBAlias)\n",
    "lapse = time.time() - start \n",
    "print(\"lapse time to match: \", lapse)\n",
    "\n"
   ],
   "outputs": [],
   "metadata": {}
  },
  {
   "cell_type": "code",
   "execution_count": null,
   "source": [
    "\n",
    "allDrug_iNames_df['iDBIDCount'] = allDrug_iNames_df['iDBID'].astype('str').str.count(\"'\")/2 \n",
    "display(allDrug_iNames_df['iDBIDCount'].value_counts())\n",
    "\n"
   ],
   "outputs": [],
   "metadata": {
    "scrolled": false
   }
  },
  {
   "cell_type": "markdown",
   "source": [
    "including non-drug intervention types increases matches to Drug Bank \n",
    "so, ignore intervention type and move forward with ALL records "
   ],
   "metadata": {}
  },
  {
   "cell_type": "markdown",
   "source": [
    "# create exception lists for review \n",
    "## to inform text cleanup below"
   ],
   "metadata": {}
  },
  {
   "cell_type": "code",
   "execution_count": null,
   "source": [
    "allDrug_iNames_df[allDrug_iNames_df['iDBIDCount'] > 0].head()"
   ],
   "outputs": [],
   "metadata": {}
  },
  {
   "cell_type": "markdown",
   "source": [
    "# Write out ClinicalTrialsTruth.tsv file\n",
    "\n",
    "DBID, iType, iName (most common? or list ?), inputRows, status, study_results, (parse phase?)"
   ],
   "metadata": {}
  },
  {
   "cell_type": "code",
   "execution_count": null,
   "source": [
    "ProposedTruth_df = allDrug_iNames_df[ allDrug_iNames_df['iDBIDCount'] > 0 ].copy()\n",
    "display(ProposedTruth_df.head())\n",
    "display(ProposedTruth_df.iDBID.__class__)\n",
    "display(ProposedTruth_df.iDBID.shape)\n",
    "display(ProposedTruth_df.iDBID.iloc[1])\n",
    "display(ProposedTruth_df.iDBID.iloc[1].__class__)\n",
    "\n",
    "#expand out to one row per intervention-Drubank ID \n",
    "s = ProposedTruth_df.apply(lambda x: pd.Series(x['iDBID']),axis=1).stack().reset_index(level=1, drop=True)\n",
    "s.name = 'iDBID'\n",
    "#display(s)\n",
    "\n",
    "ProposedTruth_df = ProposedTruth_df.drop('iDBID', axis=1).join(s)\n",
    "display(ProposedTruth_df[10:30])"
   ],
   "outputs": [],
   "metadata": {
    "scrolled": false
   }
  },
  {
   "cell_type": "code",
   "execution_count": null,
   "source": [
    "ProposedTruth_df.to_csv(\"ProposedTruth.csv\")\n"
   ],
   "outputs": [],
   "metadata": {}
  },
  {
   "cell_type": "code",
   "execution_count": null,
   "source": [],
   "outputs": [],
   "metadata": {}
  },
  {
   "cell_type": "markdown",
   "source": [
    "# Concept for Future Development"
   ],
   "metadata": {}
  },
  {
   "cell_type": "markdown",
   "source": [
    "## apply manual override file (for when just typing in the change is easier)\n",
    "\n",
    "## NOTE: any manual overrides should be entered into a .csv file and treated as data\n"
   ],
   "metadata": {}
  },
  {
   "cell_type": "code",
   "execution_count": null,
   "source": [
    "# add an additional file to INSERT complicated records that contain more than one drug\n",
    "# 541\tDrug\tHydroxychloroquine, Clindamycin, Primaquine - ...\n"
   ],
   "outputs": [],
   "metadata": {}
  },
  {
   "cell_type": "code",
   "execution_count": null,
   "source": [
    "# read exception override file\n",
    "iName_Overrides_df = pd.read_csv(CTPath + 'ctrials_iname_overrides.csv', delimiter='\\t')\n",
    "display(iName_Overrides_df.head())\n"
   ],
   "outputs": [],
   "metadata": {}
  },
  {
   "cell_type": "code",
   "execution_count": null,
   "source": [
    "# apply exception override file\n",
    "Drug_iNamesNew_df = pd.merge(Drug_iNames_df, iName_Overrides_df, how='left', on='iName', indicator=True)\n",
    "display(Drug_iNamesNew_df['_merge'].value_counts())\n",
    "\n",
    "Drug_iNamesNew_df.rename(columns = {'iName':'iNameOld'}, inplace = True)\n",
    "Drug_iNamesNew_df = Drug_iNamesNew_df[Drug_iNamesNew_df._merge=='both']\n",
    "display(Drug_iNamesNew_df.head())\n"
   ],
   "outputs": [],
   "metadata": {}
  },
  {
   "cell_type": "markdown",
   "source": [
    "### now match cleaned text into drug-bank"
   ],
   "metadata": {}
  },
  {
   "cell_type": "code",
   "execution_count": null,
   "source": [
    "# repeat matching - but for ALL intervention types to see if drugs in drug bank were misclassified\n",
    "start = time.time()\n",
    "Drug_iNamesNew_df['iDBID'] = Drug_iNamesNew_df['iNameNew'].apply(searchDBAlias)\n",
    "lapse = time.time() - start \n",
    "print(\"lapse time to match: \", lapse)\n",
    "\n"
   ],
   "outputs": [],
   "metadata": {}
  },
  {
   "cell_type": "code",
   "execution_count": null,
   "source": [
    "\n",
    "Drug_iNamesNew_df['iDBIDCount'] = Drug_iNamesNew_df['iDBID'].astype('str').str.count(\"'\")/2 \n",
    "display(Drug_iNamesNew_df['iDBIDCount'].value_counts())\n",
    "\n"
   ],
   "outputs": [],
   "metadata": {
    "scrolled": false
   }
  },
  {
   "cell_type": "code",
   "execution_count": null,
   "source": [
    "display(Drug_iNamesNew_df.head())"
   ],
   "outputs": [],
   "metadata": {}
  },
  {
   "cell_type": "code",
   "execution_count": null,
   "source": [],
   "outputs": [],
   "metadata": {}
  }
 ],
 "metadata": {
  "kernelspec": {
   "name": "python3",
   "display_name": "Python 3.7.3 64-bit ('base': conda)"
  },
  "language_info": {
   "codemirror_mode": {
    "name": "ipython",
    "version": 3
   },
   "file_extension": ".py",
   "mimetype": "text/x-python",
   "name": "python",
   "nbconvert_exporter": "python",
   "pygments_lexer": "ipython3",
   "version": "3.7.3"
  },
  "interpreter": {
   "hash": "dca0ade3e726a953b501b15e8e990130d2b7799f14cfd9f4271676035ebe5511"
  }
 },
 "nbformat": 4,
 "nbformat_minor": 2
}