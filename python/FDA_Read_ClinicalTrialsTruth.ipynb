{
 "cells": [
  {
   "cell_type": "markdown",
   "metadata": {},
   "source": [
    "# Read clinical-trials covid dataset to set \"truth\"\n",
    " match to drugs in DrugBank based on Name <br>\n",
    " requires parsing out and cleansing drug-name from the <font color=blue><b>Interventions</b></font> column"
   ]
  },
  {
   "cell_type": "markdown",
   "metadata": {},
   "source": [
    "### Additional Steps - for future consideration\n",
    "Consider parsing <font color=blue>Title</font> field to get phase of clinical trial ?<br>\n",
    "Consider using <font color=blue>URL</font> column to link to FDA web data<br>\n",
    "<br>\n",
    "Consider keeping <font color=blue>Status</font> and <font color=blue>Study Results</font>\n",
    "<br>\n",
    "See section below for including an external manual re-mapping of drugs"
   ]
  },
  {
   "cell_type": "code",
   "execution_count": 1,
   "metadata": {},
   "outputs": [],
   "source": [
    "#import other packages\n",
    "import pandas as pd\n",
    "import numpy as np\n",
    "import os\n",
    "#from itertools import chain\n",
    "import time\n",
    "import getpass\n"
   ]
  },
  {
   "cell_type": "code",
   "execution_count": 2,
   "metadata": {},
   "outputs": [
    {
     "name": "stdout",
     "output_type": "stream",
     "text": [
      "/home/sasdemo05/Python\n",
      "/home/sasdemo05/data/source/ClinicalTrials\n"
     ]
    }
   ],
   "source": [
    "print(os.getcwd())\n",
    "FDAPath = os.getcwd() + '/../data/source/'\n",
    "CTPath = FDAPath + 'ClinicalTrials/'\n",
    "DBPath = FDAPath + \"DrugBank/\"\n",
    "\n",
    "os.chdir(CTPath)\n",
    "print(os.getcwd())\n"
   ]
  },
  {
   "cell_type": "code",
   "execution_count": null,
   "metadata": {},
   "outputs": [],
   "source": []
  },
  {
   "cell_type": "code",
   "execution_count": 3,
   "metadata": {},
   "outputs": [],
   "source": [
    "# create process to explode columns with multiple delimited values\n",
    "#  takes an array column with ['drug: drug1', 'drug: drug2', 'other: ']\n",
    "def explode(df, lst_cols, fill_value='', preserve_index=False):\n",
    "    # make sure `lst_cols` is list-alike\n",
    "    if (lst_cols is not None\n",
    "        and len(lst_cols) > 0\n",
    "        and not isinstance(lst_cols, (list, tuple, np.ndarray, pd.Series))):\n",
    "        lst_cols = [lst_cols]\n",
    "    # all columns except `lst_cols`\n",
    "    idx_cols = df.columns.difference(lst_cols)\n",
    "    # calculate lengths of lists\n",
    "    lens = df[lst_cols[0]].str.len()\n",
    "    # preserve original index values    \n",
    "    idx = np.repeat(df.index.values, lens)\n",
    "    # create \"exploded\" DF\n",
    "    res = (pd.DataFrame({\n",
    "                col:np.repeat(df[col].values, lens)\n",
    "                for col in idx_cols},\n",
    "                index=idx)\n",
    "             .assign(**{col:np.concatenate(df.loc[lens>0, col].values)\n",
    "                            for col in lst_cols}))\n",
    "    # append those rows that have empty lists\n",
    "    if (lens == 0).any():\n",
    "        # at least one list in cells is empty\n",
    "        res = (res.append(df.loc[lens==0, idx_cols], sort=False)\n",
    "                  .fillna(fill_value))\n",
    "    # revert the original index order\n",
    "    res = res.sort_index()\n",
    "    # reset index if requested\n",
    "    if not preserve_index:        \n",
    "        res = res.reset_index(drop=True)\n",
    "    return res"
   ]
  },
  {
   "cell_type": "code",
   "execution_count": 4,
   "metadata": {
    "scrolled": true
   },
   "outputs": [
    {
     "data": {
      "text/plain": [
       "'reading: /home/sasdemo05/Python/../data/source/ClinicalTrials/clinicaltrial_covid.csv'"
      ]
     },
     "metadata": {},
     "output_type": "display_data"
    },
    {
     "data": {
      "text/html": [
       "<div>\n",
       "<style scoped>\n",
       "    .dataframe tbody tr th:only-of-type {\n",
       "        vertical-align: middle;\n",
       "    }\n",
       "\n",
       "    .dataframe tbody tr th {\n",
       "        vertical-align: top;\n",
       "    }\n",
       "\n",
       "    .dataframe thead th {\n",
       "        text-align: right;\n",
       "    }\n",
       "</style>\n",
       "<table border=\"1\" class=\"dataframe\">\n",
       "  <thead>\n",
       "    <tr style=\"text-align: right;\">\n",
       "      <th></th>\n",
       "      <th>Rank</th>\n",
       "      <th>Title</th>\n",
       "      <th>Status</th>\n",
       "      <th>Study Results</th>\n",
       "      <th>Conditions</th>\n",
       "      <th>Interventions</th>\n",
       "      <th>Locations</th>\n",
       "      <th>URL</th>\n",
       "    </tr>\n",
       "  </thead>\n",
       "  <tbody>\n",
       "    <tr>\n",
       "      <th>0</th>\n",
       "      <td>1</td>\n",
       "      <td>Duvelisib to Combat COVID-19</td>\n",
       "      <td>Recruiting</td>\n",
       "      <td>No Results Available</td>\n",
       "      <td>COVID-19</td>\n",
       "      <td>Drug: Duvelisib|Procedure: Peripheral blood dr...</td>\n",
       "      <td>Washington University School of Medicine, Sain...</td>\n",
       "      <td>https://ClinicalTrials.gov/show/NCT04372602</td>\n",
       "    </tr>\n",
       "    <tr>\n",
       "      <th>2</th>\n",
       "      <td>3</td>\n",
       "      <td>Decitabine for Coronavirus (COVID-19) Pneumoni...</td>\n",
       "      <td>Recruiting</td>\n",
       "      <td>No Results Available</td>\n",
       "      <td>COVID-19</td>\n",
       "      <td>Drug: Decitabine|Other: Placebo Saline</td>\n",
       "      <td>Johns Hopkins University, Baltimore, Maryland,...</td>\n",
       "      <td>https://ClinicalTrials.gov/show/NCT04482621</td>\n",
       "    </tr>\n",
       "    <tr>\n",
       "      <th>4</th>\n",
       "      <td>5</td>\n",
       "      <td>A Phase 2 Trial of Infliximab in Coronavirus D...</td>\n",
       "      <td>Recruiting</td>\n",
       "      <td>No Results Available</td>\n",
       "      <td>COVID-19</td>\n",
       "      <td>Drug: Infliximab</td>\n",
       "      <td>Tufts Medical Center, Boston, Massachusetts, U...</td>\n",
       "      <td>https://ClinicalTrials.gov/show/NCT04425538</td>\n",
       "    </tr>\n",
       "    <tr>\n",
       "      <th>5</th>\n",
       "      <td>6</td>\n",
       "      <td>Safety &amp; Performance Evaluation of Seraph 100 ...</td>\n",
       "      <td>Not yet recruiting</td>\n",
       "      <td>No Results Available</td>\n",
       "      <td>COVID-19</td>\n",
       "      <td>Device: Seraph 100</td>\n",
       "      <td>Carla Kikken-Jussen, Vaals, Limburg, Netherlands</td>\n",
       "      <td>https://ClinicalTrials.gov/show/NCT04547257</td>\n",
       "    </tr>\n",
       "    <tr>\n",
       "      <th>6</th>\n",
       "      <td>7</td>\n",
       "      <td>Safety and Efficacy of Tramadol in COVID-19 Eg...</td>\n",
       "      <td>Not yet recruiting</td>\n",
       "      <td>No Results Available</td>\n",
       "      <td>COVID-19</td>\n",
       "      <td>Drug: Tramadol|Other: Standard care delivered ...</td>\n",
       "      <td>NaN</td>\n",
       "      <td>https://ClinicalTrials.gov/show/NCT04454307</td>\n",
       "    </tr>\n",
       "  </tbody>\n",
       "</table>\n",
       "</div>"
      ],
      "text/plain": [
       "   Rank                                              Title  \\\n",
       "0     1                       Duvelisib to Combat COVID-19   \n",
       "2     3  Decitabine for Coronavirus (COVID-19) Pneumoni...   \n",
       "4     5  A Phase 2 Trial of Infliximab in Coronavirus D...   \n",
       "5     6  Safety & Performance Evaluation of Seraph 100 ...   \n",
       "6     7  Safety and Efficacy of Tramadol in COVID-19 Eg...   \n",
       "\n",
       "               Status         Study Results Conditions  \\\n",
       "0          Recruiting  No Results Available   COVID-19   \n",
       "2          Recruiting  No Results Available   COVID-19   \n",
       "4          Recruiting  No Results Available   COVID-19   \n",
       "5  Not yet recruiting  No Results Available   COVID-19   \n",
       "6  Not yet recruiting  No Results Available   COVID-19   \n",
       "\n",
       "                                       Interventions  \\\n",
       "0  Drug: Duvelisib|Procedure: Peripheral blood dr...   \n",
       "2             Drug: Decitabine|Other: Placebo Saline   \n",
       "4                                   Drug: Infliximab   \n",
       "5                                 Device: Seraph 100   \n",
       "6  Drug: Tramadol|Other: Standard care delivered ...   \n",
       "\n",
       "                                           Locations  \\\n",
       "0  Washington University School of Medicine, Sain...   \n",
       "2  Johns Hopkins University, Baltimore, Maryland,...   \n",
       "4  Tufts Medical Center, Boston, Massachusetts, U...   \n",
       "5   Carla Kikken-Jussen, Vaals, Limburg, Netherlands   \n",
       "6                                                NaN   \n",
       "\n",
       "                                           URL  \n",
       "0  https://ClinicalTrials.gov/show/NCT04372602  \n",
       "2  https://ClinicalTrials.gov/show/NCT04482621  \n",
       "4  https://ClinicalTrials.gov/show/NCT04425538  \n",
       "5  https://ClinicalTrials.gov/show/NCT04547257  \n",
       "6  https://ClinicalTrials.gov/show/NCT04454307  "
      ]
     },
     "metadata": {},
     "output_type": "display_data"
    }
   ],
   "source": [
    "display(\"reading: \" + CTPath + 'clinicaltrial_covid.csv')\n",
    "ctrials_df = pd.read_csv(CTPath + 'clinicaltrial_covid.csv')\n",
    "ctrials_df.dropna(subset=['Interventions'], inplace=True) # if interventions column is blank.  drop row\n",
    "display(ctrials_df.head())\n"
   ]
  },
  {
   "cell_type": "code",
   "execution_count": 5,
   "metadata": {},
   "outputs": [],
   "source": [
    "# would need to parse title for phase\n"
   ]
  },
  {
   "cell_type": "code",
   "execution_count": 6,
   "metadata": {
    "scrolled": false
   },
   "outputs": [
    {
     "data": {
      "text/plain": [
       "(3604, 8)"
      ]
     },
     "metadata": {},
     "output_type": "display_data"
    },
    {
     "data": {
      "text/plain": [
       "pandas.core.series.Series"
      ]
     },
     "metadata": {},
     "output_type": "display_data"
    },
    {
     "data": {
      "text/plain": [
       "pandas.core.series.Series"
      ]
     },
     "metadata": {},
     "output_type": "display_data"
    },
    {
     "data": {
      "text/plain": [
       "pandas.core.frame.DataFrame"
      ]
     },
     "metadata": {},
     "output_type": "display_data"
    },
    {
     "data": {
      "text/html": [
       "<div>\n",
       "<style scoped>\n",
       "    .dataframe tbody tr th:only-of-type {\n",
       "        vertical-align: middle;\n",
       "    }\n",
       "\n",
       "    .dataframe tbody tr th {\n",
       "        vertical-align: top;\n",
       "    }\n",
       "\n",
       "    .dataframe thead th {\n",
       "        text-align: right;\n",
       "    }\n",
       "</style>\n",
       "<table border=\"1\" class=\"dataframe\">\n",
       "  <thead>\n",
       "    <tr style=\"text-align: right;\">\n",
       "      <th></th>\n",
       "      <th>Interventions</th>\n",
       "      <th>s1</th>\n",
       "    </tr>\n",
       "    <tr>\n",
       "      <th>Rank</th>\n",
       "      <th></th>\n",
       "      <th></th>\n",
       "    </tr>\n",
       "  </thead>\n",
       "  <tbody>\n",
       "    <tr>\n",
       "      <th>1</th>\n",
       "      <td>Drug: Duvelisib|Procedure: Peripheral blood dr...</td>\n",
       "      <td>[Drug: Duvelisib, Procedure: Peripheral blood ...</td>\n",
       "    </tr>\n",
       "    <tr>\n",
       "      <th>3</th>\n",
       "      <td>Drug: Decitabine|Other: Placebo Saline</td>\n",
       "      <td>[Drug: Decitabine, Other: Placebo Saline]</td>\n",
       "    </tr>\n",
       "    <tr>\n",
       "      <th>5</th>\n",
       "      <td>Drug: Infliximab</td>\n",
       "      <td>[Drug: Infliximab]</td>\n",
       "    </tr>\n",
       "    <tr>\n",
       "      <th>6</th>\n",
       "      <td>Device: Seraph 100</td>\n",
       "      <td>[Device: Seraph 100]</td>\n",
       "    </tr>\n",
       "    <tr>\n",
       "      <th>7</th>\n",
       "      <td>Drug: Tramadol|Other: Standard care delivered ...</td>\n",
       "      <td>[Drug: Tramadol, Other: Standard care delivere...</td>\n",
       "    </tr>\n",
       "  </tbody>\n",
       "</table>\n",
       "</div>"
      ],
      "text/plain": [
       "                                          Interventions  \\\n",
       "Rank                                                      \n",
       "1     Drug: Duvelisib|Procedure: Peripheral blood dr...   \n",
       "3                Drug: Decitabine|Other: Placebo Saline   \n",
       "5                                      Drug: Infliximab   \n",
       "6                                    Device: Seraph 100   \n",
       "7     Drug: Tramadol|Other: Standard care delivered ...   \n",
       "\n",
       "                                                     s1  \n",
       "Rank                                                     \n",
       "1     [Drug: Duvelisib, Procedure: Peripheral blood ...  \n",
       "3             [Drug: Decitabine, Other: Placebo Saline]  \n",
       "5                                    [Drug: Infliximab]  \n",
       "6                                  [Device: Seraph 100]  \n",
       "7     [Drug: Tramadol, Other: Standard care delivere...  "
      ]
     },
     "metadata": {},
     "output_type": "display_data"
    }
   ],
   "source": [
    "#ctrials_df[['Rank', 'Title', 'Interventions']].set_index(['Rank', 'Title'])['Interventions'].str.split('|')\n",
    "ctrials_df.set_index(['Rank'], inplace=True)\n",
    "\n",
    "ctrials_df['s1'] = ctrials_df['Interventions'].str.split('|')\n",
    "display(ctrials_df.shape)\n",
    "display(ctrials_df['Interventions'].__class__)\n",
    "display(ctrials_df['s1'].__class__)\n",
    "display(ctrials_df.__class__)\n",
    "display(ctrials_df[['Interventions','s1']].head())\n"
   ]
  },
  {
   "cell_type": "code",
   "execution_count": 7,
   "metadata": {
    "scrolled": true
   },
   "outputs": [
    {
     "data": {
      "text/plain": [
       "(5933, 9)"
      ]
     },
     "metadata": {},
     "output_type": "display_data"
    },
    {
     "data": {
      "text/html": [
       "<div>\n",
       "<style scoped>\n",
       "    .dataframe tbody tr th:only-of-type {\n",
       "        vertical-align: middle;\n",
       "    }\n",
       "\n",
       "    .dataframe tbody tr th {\n",
       "        vertical-align: top;\n",
       "    }\n",
       "\n",
       "    .dataframe thead th {\n",
       "        text-align: right;\n",
       "    }\n",
       "</style>\n",
       "<table border=\"1\" class=\"dataframe\">\n",
       "  <thead>\n",
       "    <tr style=\"text-align: right;\">\n",
       "      <th></th>\n",
       "      <th>index</th>\n",
       "      <th>Conditions</th>\n",
       "      <th>Interventions</th>\n",
       "      <th>Locations</th>\n",
       "      <th>Status</th>\n",
       "      <th>Study Results</th>\n",
       "      <th>Title</th>\n",
       "      <th>URL</th>\n",
       "      <th>s1</th>\n",
       "    </tr>\n",
       "  </thead>\n",
       "  <tbody>\n",
       "    <tr>\n",
       "      <th>0</th>\n",
       "      <td>1</td>\n",
       "      <td>COVID-19</td>\n",
       "      <td>Drug: Duvelisib|Procedure: Peripheral blood dr...</td>\n",
       "      <td>Washington University School of Medicine, Sain...</td>\n",
       "      <td>Recruiting</td>\n",
       "      <td>No Results Available</td>\n",
       "      <td>Duvelisib to Combat COVID-19</td>\n",
       "      <td>https://ClinicalTrials.gov/show/NCT04372602</td>\n",
       "      <td>Drug: Duvelisib</td>\n",
       "    </tr>\n",
       "    <tr>\n",
       "      <th>1</th>\n",
       "      <td>1</td>\n",
       "      <td>COVID-19</td>\n",
       "      <td>Drug: Duvelisib|Procedure: Peripheral blood dr...</td>\n",
       "      <td>Washington University School of Medicine, Sain...</td>\n",
       "      <td>Recruiting</td>\n",
       "      <td>No Results Available</td>\n",
       "      <td>Duvelisib to Combat COVID-19</td>\n",
       "      <td>https://ClinicalTrials.gov/show/NCT04372602</td>\n",
       "      <td>Procedure: Peripheral blood draw</td>\n",
       "    </tr>\n",
       "    <tr>\n",
       "      <th>2</th>\n",
       "      <td>1</td>\n",
       "      <td>COVID-19</td>\n",
       "      <td>Drug: Duvelisib|Procedure: Peripheral blood dr...</td>\n",
       "      <td>Washington University School of Medicine, Sain...</td>\n",
       "      <td>Recruiting</td>\n",
       "      <td>No Results Available</td>\n",
       "      <td>Duvelisib to Combat COVID-19</td>\n",
       "      <td>https://ClinicalTrials.gov/show/NCT04372602</td>\n",
       "      <td>Drug: Placebo</td>\n",
       "    </tr>\n",
       "    <tr>\n",
       "      <th>3</th>\n",
       "      <td>3</td>\n",
       "      <td>COVID-19</td>\n",
       "      <td>Drug: Decitabine|Other: Placebo Saline</td>\n",
       "      <td>Johns Hopkins University, Baltimore, Maryland,...</td>\n",
       "      <td>Recruiting</td>\n",
       "      <td>No Results Available</td>\n",
       "      <td>Decitabine for Coronavirus (COVID-19) Pneumoni...</td>\n",
       "      <td>https://ClinicalTrials.gov/show/NCT04482621</td>\n",
       "      <td>Drug: Decitabine</td>\n",
       "    </tr>\n",
       "    <tr>\n",
       "      <th>4</th>\n",
       "      <td>3</td>\n",
       "      <td>COVID-19</td>\n",
       "      <td>Drug: Decitabine|Other: Placebo Saline</td>\n",
       "      <td>Johns Hopkins University, Baltimore, Maryland,...</td>\n",
       "      <td>Recruiting</td>\n",
       "      <td>No Results Available</td>\n",
       "      <td>Decitabine for Coronavirus (COVID-19) Pneumoni...</td>\n",
       "      <td>https://ClinicalTrials.gov/show/NCT04482621</td>\n",
       "      <td>Other: Placebo Saline</td>\n",
       "    </tr>\n",
       "  </tbody>\n",
       "</table>\n",
       "</div>"
      ],
      "text/plain": [
       "   index Conditions                                      Interventions  \\\n",
       "0      1   COVID-19  Drug: Duvelisib|Procedure: Peripheral blood dr...   \n",
       "1      1   COVID-19  Drug: Duvelisib|Procedure: Peripheral blood dr...   \n",
       "2      1   COVID-19  Drug: Duvelisib|Procedure: Peripheral blood dr...   \n",
       "3      3   COVID-19             Drug: Decitabine|Other: Placebo Saline   \n",
       "4      3   COVID-19             Drug: Decitabine|Other: Placebo Saline   \n",
       "\n",
       "                                           Locations      Status  \\\n",
       "0  Washington University School of Medicine, Sain...  Recruiting   \n",
       "1  Washington University School of Medicine, Sain...  Recruiting   \n",
       "2  Washington University School of Medicine, Sain...  Recruiting   \n",
       "3  Johns Hopkins University, Baltimore, Maryland,...  Recruiting   \n",
       "4  Johns Hopkins University, Baltimore, Maryland,...  Recruiting   \n",
       "\n",
       "          Study Results                                              Title  \\\n",
       "0  No Results Available                       Duvelisib to Combat COVID-19   \n",
       "1  No Results Available                       Duvelisib to Combat COVID-19   \n",
       "2  No Results Available                       Duvelisib to Combat COVID-19   \n",
       "3  No Results Available  Decitabine for Coronavirus (COVID-19) Pneumoni...   \n",
       "4  No Results Available  Decitabine for Coronavirus (COVID-19) Pneumoni...   \n",
       "\n",
       "                                           URL  \\\n",
       "0  https://ClinicalTrials.gov/show/NCT04372602   \n",
       "1  https://ClinicalTrials.gov/show/NCT04372602   \n",
       "2  https://ClinicalTrials.gov/show/NCT04372602   \n",
       "3  https://ClinicalTrials.gov/show/NCT04482621   \n",
       "4  https://ClinicalTrials.gov/show/NCT04482621   \n",
       "\n",
       "                                 s1  \n",
       "0                   Drug: Duvelisib  \n",
       "1  Procedure: Peripheral blood draw  \n",
       "2                     Drug: Placebo  \n",
       "3                  Drug: Decitabine  \n",
       "4             Other: Placebo Saline  "
      ]
     },
     "metadata": {},
     "output_type": "display_data"
    }
   ],
   "source": [
    "# now create one row for each array element in column s1\n",
    "ctrials_df = explode(ctrials_df, 's1', preserve_index=True)\n",
    "ctrials_df.reset_index(inplace=True)\n",
    "display(ctrials_df.shape)\n",
    "display(ctrials_df.head())\n"
   ]
  },
  {
   "cell_type": "code",
   "execution_count": 8,
   "metadata": {
    "scrolled": true
   },
   "outputs": [],
   "source": [
    "new = ctrials_df[\"s1\"].str.split(\":\", n = 1, expand = True) \n",
    "#display(new)\n",
    "\n",
    "ctrials_df[\"iType\"]= new[0].astype('str').str.strip()\n",
    "ctrials_df[\"iName\"]= new[1].astype('str').str.strip()\n"
   ]
  },
  {
   "cell_type": "code",
   "execution_count": 9,
   "metadata": {},
   "outputs": [],
   "source": [
    "del new\n",
    "\n",
    "# Dropping old Name columns \n",
    "ctrials_df.drop(columns =['Interventions', \"s1\"], inplace = True)\n"
   ]
  },
  {
   "cell_type": "code",
   "execution_count": 10,
   "metadata": {
    "scrolled": false
   },
   "outputs": [
    {
     "data": {
      "text/html": [
       "<div>\n",
       "<style scoped>\n",
       "    .dataframe tbody tr th:only-of-type {\n",
       "        vertical-align: middle;\n",
       "    }\n",
       "\n",
       "    .dataframe tbody tr th {\n",
       "        vertical-align: top;\n",
       "    }\n",
       "\n",
       "    .dataframe thead th {\n",
       "        text-align: right;\n",
       "    }\n",
       "</style>\n",
       "<table border=\"1\" class=\"dataframe\">\n",
       "  <thead>\n",
       "    <tr style=\"text-align: right;\">\n",
       "      <th></th>\n",
       "      <th>iType</th>\n",
       "    </tr>\n",
       "    <tr>\n",
       "      <th>iType</th>\n",
       "      <th></th>\n",
       "    </tr>\n",
       "  </thead>\n",
       "  <tbody>\n",
       "    <tr>\n",
       "      <th>Behavioral</th>\n",
       "      <td>390</td>\n",
       "    </tr>\n",
       "    <tr>\n",
       "      <th>Biological</th>\n",
       "      <td>651</td>\n",
       "    </tr>\n",
       "    <tr>\n",
       "      <th>Combination Product</th>\n",
       "      <td>53</td>\n",
       "    </tr>\n",
       "    <tr>\n",
       "      <th>Device</th>\n",
       "      <td>286</td>\n",
       "    </tr>\n",
       "    <tr>\n",
       "      <th>Diagnostic Test</th>\n",
       "      <td>513</td>\n",
       "    </tr>\n",
       "    <tr>\n",
       "      <th>Dietary Supplement</th>\n",
       "      <td>138</td>\n",
       "    </tr>\n",
       "    <tr>\n",
       "      <th>Drug</th>\n",
       "      <td>2336</td>\n",
       "    </tr>\n",
       "    <tr>\n",
       "      <th>Genetic</th>\n",
       "      <td>16</td>\n",
       "    </tr>\n",
       "    <tr>\n",
       "      <th>Other</th>\n",
       "      <td>1384</td>\n",
       "    </tr>\n",
       "    <tr>\n",
       "      <th>Procedure</th>\n",
       "      <td>141</td>\n",
       "    </tr>\n",
       "    <tr>\n",
       "      <th>Radiation</th>\n",
       "      <td>25</td>\n",
       "    </tr>\n",
       "  </tbody>\n",
       "</table>\n",
       "</div>"
      ],
      "text/plain": [
       "                     iType\n",
       "iType                     \n",
       "Behavioral             390\n",
       "Biological             651\n",
       "Combination Product     53\n",
       "Device                 286\n",
       "Diagnostic Test        513\n",
       "Dietary Supplement     138\n",
       "Drug                  2336\n",
       "Genetic                 16\n",
       "Other                 1384\n",
       "Procedure              141\n",
       "Radiation               25"
      ]
     },
     "metadata": {},
     "output_type": "display_data"
    }
   ],
   "source": [
    "# show count of rows by intervention type - only some should contain small-molecule drugs\n",
    "#  but the classification is not consistently accurate so use all to find matches\n",
    "display(pd.DataFrame(ctrials_df.groupby(['iType'])['iType'].count()))\n"
   ]
  },
  {
   "cell_type": "code",
   "execution_count": 11,
   "metadata": {},
   "outputs": [
    {
     "data": {
      "text/plain": [
       "'ctrials_drugs_df shape (rows, columns)'"
      ]
     },
     "metadata": {},
     "output_type": "display_data"
    },
    {
     "data": {
      "text/plain": [
       "(2336, 9)"
      ]
     },
     "metadata": {},
     "output_type": "display_data"
    },
    {
     "name": "stdout",
     "output_type": "stream",
     "text": [
      "\n"
     ]
    },
    {
     "data": {
      "text/plain": [
       "'drug_iNames_df has one row per intervention name plus descriptive columns:'"
      ]
     },
     "metadata": {},
     "output_type": "display_data"
    },
    {
     "data": {
      "text/plain": [
       "(1313, 4)"
      ]
     },
     "metadata": {},
     "output_type": "display_data"
    },
    {
     "data": {
      "text/html": [
       "<div>\n",
       "<style scoped>\n",
       "    .dataframe tbody tr th:only-of-type {\n",
       "        vertical-align: middle;\n",
       "    }\n",
       "\n",
       "    .dataframe tbody tr th {\n",
       "        vertical-align: top;\n",
       "    }\n",
       "\n",
       "    .dataframe thead th {\n",
       "        text-align: right;\n",
       "    }\n",
       "</style>\n",
       "<table border=\"1\" class=\"dataframe\">\n",
       "  <thead>\n",
       "    <tr style=\"text-align: right;\">\n",
       "      <th></th>\n",
       "      <th>iType</th>\n",
       "      <th>iName</th>\n",
       "      <th>inputRowCount</th>\n",
       "      <th>inputRowIDs</th>\n",
       "    </tr>\n",
       "  </thead>\n",
       "  <tbody>\n",
       "    <tr>\n",
       "      <th>15</th>\n",
       "      <td>Drug</td>\n",
       "      <td>1% Hydrogen Peroxide</td>\n",
       "      <td>1</td>\n",
       "      <td>212</td>\n",
       "    </tr>\n",
       "    <tr>\n",
       "      <th>16</th>\n",
       "      <td>Drug</td>\n",
       "      <td>1% w/v Povidone-iodide</td>\n",
       "      <td>1</td>\n",
       "      <td>2295</td>\n",
       "    </tr>\n",
       "    <tr>\n",
       "      <th>17</th>\n",
       "      <td>Drug</td>\n",
       "      <td>1.5-2% w/v Hydrogen Peroxide</td>\n",
       "      <td>1</td>\n",
       "      <td>2295</td>\n",
       "    </tr>\n",
       "    <tr>\n",
       "      <th>18</th>\n",
       "      <td>Drug</td>\n",
       "      <td>10% Povidone-iodine nasal decolonization swab ...</td>\n",
       "      <td>1</td>\n",
       "      <td>830</td>\n",
       "    </tr>\n",
       "    <tr>\n",
       "      <th>19</th>\n",
       "      <td>Drug</td>\n",
       "      <td>100 mg/mL Virazole</td>\n",
       "      <td>2</td>\n",
       "      <td>[1353, 1365]</td>\n",
       "    </tr>\n",
       "  </tbody>\n",
       "</table>\n",
       "</div>"
      ],
      "text/plain": [
       "   iType                                              iName  inputRowCount  \\\n",
       "15  Drug                               1% Hydrogen Peroxide              1   \n",
       "16  Drug                             1% w/v Povidone-iodide              1   \n",
       "17  Drug                       1.5-2% w/v Hydrogen Peroxide              1   \n",
       "18  Drug  10% Povidone-iodine nasal decolonization swab ...              1   \n",
       "19  Drug                                 100 mg/mL Virazole              2   \n",
       "\n",
       "     inputRowIDs  \n",
       "15           212  \n",
       "16          2295  \n",
       "17          2295  \n",
       "18           830  \n",
       "19  [1353, 1365]  "
      ]
     },
     "metadata": {},
     "output_type": "display_data"
    }
   ],
   "source": [
    "# consider adding index/id of clinical trials input as a column of arrays\n",
    "\n",
    "# keep only rows with intervention type of \"Drug\"\n",
    "ctrials_drugs_df = ctrials_df[ ctrials_df['iType'] == 'Drug' ] \n",
    "\n",
    "# check results\n",
    "display('ctrials_drugs_df shape (rows, columns)', ctrials_drugs_df.shape)\n",
    "print()\n",
    "\n",
    "# get input row IDs for each iType + iName\n",
    "df2 = pd.DataFrame(ctrials_drugs_df[['iType', 'iName', 'index']].groupby(['iType', 'iName']).aggregate(lambda tdf: np.array(tdf.unique())))\n",
    "df2.columns = ['inputRowIDs']\n",
    "\n",
    "# counting number of row IDs for each iType + iName\n",
    "Drug_iNames_df = pd.DataFrame(ctrials_drugs_df.groupby(['iType', 'iName'])['iType'].count())\n",
    "Drug_iNames_df.columns = ['inputRowCount']\n",
    "Drug_iNames_df['inputRowIDs'] = df2['inputRowIDs']\n",
    "Drug_iNames_df.reset_index(inplace=True)\n",
    "display(\"drug_iNames_df has one row per intervention name plus descriptive columns:\", Drug_iNames_df.shape)\n",
    "display(Drug_iNames_df[15:20])\n",
    "\n",
    "# cleanup memory\n",
    "del df2\n"
   ]
  },
  {
   "cell_type": "code",
   "execution_count": 12,
   "metadata": {},
   "outputs": [
    {
     "data": {
      "text/plain": [
       "'ctrials_drugs_df shape (rows, columns)'"
      ]
     },
     "metadata": {},
     "output_type": "display_data"
    },
    {
     "data": {
      "text/plain": [
       "(5933, 9)"
      ]
     },
     "metadata": {},
     "output_type": "display_data"
    },
    {
     "name": "stdout",
     "output_type": "stream",
     "text": [
      "\n"
     ]
    },
    {
     "data": {
      "text/plain": [
       "'drug_iNames_df has one row per intervention name plus descriptive columns:'"
      ]
     },
     "metadata": {},
     "output_type": "display_data"
    },
    {
     "data": {
      "text/plain": [
       "(4075, 3)"
      ]
     },
     "metadata": {},
     "output_type": "display_data"
    },
    {
     "data": {
      "text/html": [
       "<div>\n",
       "<style scoped>\n",
       "    .dataframe tbody tr th:only-of-type {\n",
       "        vertical-align: middle;\n",
       "    }\n",
       "\n",
       "    .dataframe tbody tr th {\n",
       "        vertical-align: top;\n",
       "    }\n",
       "\n",
       "    .dataframe thead th {\n",
       "        text-align: right;\n",
       "    }\n",
       "</style>\n",
       "<table border=\"1\" class=\"dataframe\">\n",
       "  <thead>\n",
       "    <tr style=\"text-align: right;\">\n",
       "      <th></th>\n",
       "      <th>iName</th>\n",
       "      <th>inputRowCount</th>\n",
       "      <th>inputRowIDs</th>\n",
       "    </tr>\n",
       "  </thead>\n",
       "  <tbody>\n",
       "    <tr>\n",
       "      <th>15</th>\n",
       "      <td>0.9% saline</td>\n",
       "      <td>3</td>\n",
       "      <td>[248, 766, 2293]</td>\n",
       "    </tr>\n",
       "    <tr>\n",
       "      <th>16</th>\n",
       "      <td>0.9% sodium chloride (normal saline)</td>\n",
       "      <td>1</td>\n",
       "      <td>497</td>\n",
       "    </tr>\n",
       "    <tr>\n",
       "      <th>17</th>\n",
       "      <td>0.9%NaCl</td>\n",
       "      <td>1</td>\n",
       "      <td>2279</td>\n",
       "    </tr>\n",
       "    <tr>\n",
       "      <th>18</th>\n",
       "      <td>0.9%sodium chloride</td>\n",
       "      <td>1</td>\n",
       "      <td>669</td>\n",
       "    </tr>\n",
       "    <tr>\n",
       "      <th>19</th>\n",
       "      <td>1% Hydrogen Peroxide</td>\n",
       "      <td>1</td>\n",
       "      <td>212</td>\n",
       "    </tr>\n",
       "  </tbody>\n",
       "</table>\n",
       "</div>"
      ],
      "text/plain": [
       "                                   iName  inputRowCount       inputRowIDs\n",
       "15                           0.9% saline              3  [248, 766, 2293]\n",
       "16  0.9% sodium chloride (normal saline)              1               497\n",
       "17                              0.9%NaCl              1              2279\n",
       "18                   0.9%sodium chloride              1               669\n",
       "19                  1% Hydrogen Peroxide              1               212"
      ]
     },
     "metadata": {},
     "output_type": "display_data"
    }
   ],
   "source": [
    "# repeat processing above for ALL intervention types\n",
    "# keep only rows with intervention type of \"Drug\"\n",
    "allctrials_drugs_df = ctrials_df \n",
    "\n",
    "# check results\n",
    "display('ctrials_drugs_df shape (rows, columns)', allctrials_drugs_df.shape)\n",
    "print()\n",
    "\n",
    "# get input row IDs for each iType + iName\n",
    "df2 = pd.DataFrame(allctrials_drugs_df[['iName', 'index']].groupby(['iName']).aggregate(lambda tdf: np.array(tdf.unique())))\n",
    "df2.columns = ['inputRowIDs']\n",
    "\n",
    "# counting number of row IDs for each iType + iName\n",
    "allDrug_iNames_df = pd.DataFrame(allctrials_drugs_df.groupby(['iName'])['iName'].count())\n",
    "allDrug_iNames_df.columns = ['inputRowCount']\n",
    "allDrug_iNames_df['inputRowIDs'] = df2['inputRowIDs']\n",
    "allDrug_iNames_df.reset_index(inplace=True)\n",
    "display(\"drug_iNames_df has one row per intervention name plus descriptive columns:\", allDrug_iNames_df.shape)\n",
    "display(allDrug_iNames_df[15:20])\n",
    "\n",
    "# cleanup memory\n",
    "del df2\n"
   ]
  },
  {
   "cell_type": "markdown",
   "metadata": {},
   "source": [
    "# Load synonyms from DrugBank"
   ]
  },
  {
   "cell_type": "code",
   "execution_count": 13,
   "metadata": {
    "scrolled": false
   },
   "outputs": [
    {
     "name": "stdout",
     "output_type": "stream",
     "text": [
      "<class 'dict'>\n"
     ]
    },
    {
     "data": {
      "text/plain": [
       "['Avigan', 'Fapilavir', 'Favilavir', 'Favipiravir']"
      ]
     },
     "metadata": {},
     "output_type": "display_data"
    },
    {
     "data": {
      "text/plain": [
       "['Abivertinib']"
      ]
     },
     "metadata": {},
     "output_type": "display_data"
    }
   ],
   "source": [
    "# app.py\n",
    "\n",
    "import json\n",
    "\n",
    "fObj = open(DBPath+'DrugBank_CSVs/aliases.json',)\n",
    "DBAlias = json.load(fObj)\n",
    "fObj.close()\n",
    "\n",
    "print(DBAlias.__class__)\n",
    "display(DBAlias['DB12466'])\n",
    "display(DBAlias[\"DB15327\"])\n",
    "#display(DBAlias[\"DB00898\"]) # prednisone\n",
    "\n"
   ]
  },
  {
   "cell_type": "markdown",
   "metadata": {},
   "source": [
    "# match intervention Names against Drug Bank to identify DB-IDs"
   ]
  },
  {
   "cell_type": "code",
   "execution_count": 14,
   "metadata": {},
   "outputs": [],
   "source": [
    "# search dict in DBAlias format to return ID if element of an array matches\n",
    "def searchDBAlias(byVal):\n",
    "    keysList = []\n",
    "    itemsList = DBAlias.items()\n",
    "    for item in itemsList:\n",
    "        if byVal in item[1]:\n",
    "            keysList.append(item[0])\n",
    "    return keysList"
   ]
  },
  {
   "cell_type": "code",
   "execution_count": 15,
   "metadata": {},
   "outputs": [
    {
     "name": "stdout",
     "output_type": "stream",
     "text": [
      "lapse time to match:  11.452619314193726\n"
     ]
    }
   ],
   "source": [
    "# this could be sped up if it becomes an issue\n",
    "start = time.time()\n",
    "Drug_iNames_df['iDBID'] = Drug_iNames_df['iName'].apply(searchDBAlias)\n",
    "lapse = time.time() - start \n",
    "print(\"lapse time to match: \", lapse)\n"
   ]
  },
  {
   "cell_type": "code",
   "execution_count": 16,
   "metadata": {
    "scrolled": true
   },
   "outputs": [
    {
     "data": {
      "text/plain": [
       "'Table of DrugBank matches found by intervention name'"
      ]
     },
     "metadata": {},
     "output_type": "display_data"
    },
    {
     "data": {
      "text/plain": [
       "0.0    1063\n",
       "1.0     237\n",
       "2.0      12\n",
       "4.0       1\n",
       "Name: iDBIDCount, dtype: int64"
      ]
     },
     "metadata": {},
     "output_type": "display_data"
    }
   ],
   "source": [
    "Drug_iNames_df['iDBIDCount'] = Drug_iNames_df['iDBID'].astype('str').str.count(\"'\")/2 #.str.shape()\n",
    "display(\"Table of DrugBank matches found by intervention name\", Drug_iNames_df['iDBIDCount'].value_counts())\n",
    "\n",
    "#display(Drug_iNames_df['iDBID'].__class__)\n",
    "#display(Drug_iNames_df['iDBID'].astype('str').__class__)\n",
    "#display(Drug_iNames_df['iDBID'].astype('str')[250])\n",
    "#display(Drug_iNames_df['iDBID'].astype('str')[400:410])\n"
   ]
  },
  {
   "cell_type": "code",
   "execution_count": 17,
   "metadata": {},
   "outputs": [
    {
     "data": {
      "text/plain": [
       "'intervention names matching 2 Drug Bank entries'"
      ]
     },
     "metadata": {},
     "output_type": "display_data"
    },
    {
     "data": {
      "text/html": [
       "<div>\n",
       "<style scoped>\n",
       "    .dataframe tbody tr th:only-of-type {\n",
       "        vertical-align: middle;\n",
       "    }\n",
       "\n",
       "    .dataframe tbody tr th {\n",
       "        vertical-align: top;\n",
       "    }\n",
       "\n",
       "    .dataframe thead th {\n",
       "        text-align: right;\n",
       "    }\n",
       "</style>\n",
       "<table border=\"1\" class=\"dataframe\">\n",
       "  <thead>\n",
       "    <tr style=\"text-align: right;\">\n",
       "      <th></th>\n",
       "      <th>iType</th>\n",
       "      <th>iName</th>\n",
       "      <th>inputRowCount</th>\n",
       "      <th>inputRowIDs</th>\n",
       "      <th>iDBID</th>\n",
       "      <th>iDBIDCount</th>\n",
       "    </tr>\n",
       "  </thead>\n",
       "  <tbody>\n",
       "    <tr>\n",
       "      <th>250</th>\n",
       "      <td>Drug</td>\n",
       "      <td>Candesartan</td>\n",
       "      <td>1</td>\n",
       "      <td>460</td>\n",
       "      <td>[DB00796, DB13919]</td>\n",
       "      <td>2.0</td>\n",
       "    </tr>\n",
       "    <tr>\n",
       "      <th>349</th>\n",
       "      <td>Drug</td>\n",
       "      <td>Diphenhydramine</td>\n",
       "      <td>1</td>\n",
       "      <td>1069</td>\n",
       "      <td>[DB01075, DB14487]</td>\n",
       "      <td>2.0</td>\n",
       "    </tr>\n",
       "    <tr>\n",
       "      <th>494</th>\n",
       "      <td>Drug</td>\n",
       "      <td>Hydrocortisone</td>\n",
       "      <td>3</td>\n",
       "      <td>[454, 1069, 1831]</td>\n",
       "      <td>[DB00741, DB14539]</td>\n",
       "      <td>2.0</td>\n",
       "    </tr>\n",
       "    <tr>\n",
       "      <th>677</th>\n",
       "      <td>Drug</td>\n",
       "      <td>Lopinavir-Ritonavir</td>\n",
       "      <td>2</td>\n",
       "      <td>[2642, 3035]</td>\n",
       "      <td>[DB00503, DB01601]</td>\n",
       "      <td>2.0</td>\n",
       "    </tr>\n",
       "    <tr>\n",
       "      <th>771</th>\n",
       "      <td>Drug</td>\n",
       "      <td>Naltrexone</td>\n",
       "      <td>3</td>\n",
       "      <td>[890, 1292, 2587]</td>\n",
       "      <td>[DB00620, DB00704]</td>\n",
       "      <td>2.0</td>\n",
       "    </tr>\n",
       "    <tr>\n",
       "      <th>939</th>\n",
       "      <td>Drug</td>\n",
       "      <td>Povidone-iodine</td>\n",
       "      <td>1</td>\n",
       "      <td>809</td>\n",
       "      <td>[DB05382, DB06812]</td>\n",
       "      <td>2.0</td>\n",
       "    </tr>\n",
       "    <tr>\n",
       "      <th>944</th>\n",
       "      <td>Drug</td>\n",
       "      <td>Prednisone</td>\n",
       "      <td>4</td>\n",
       "      <td>[381, 454, 613, 1586]</td>\n",
       "      <td>[DB00635, DB00898]</td>\n",
       "      <td>2.0</td>\n",
       "    </tr>\n",
       "    <tr>\n",
       "      <th>1118</th>\n",
       "      <td>Drug</td>\n",
       "      <td>TNKase</td>\n",
       "      <td>1</td>\n",
       "      <td>2930</td>\n",
       "      <td>[DB00031, DB02325]</td>\n",
       "      <td>2.0</td>\n",
       "    </tr>\n",
       "    <tr>\n",
       "      <th>1199</th>\n",
       "      <td>Drug</td>\n",
       "      <td>Vitamin C</td>\n",
       "      <td>5</td>\n",
       "      <td>[1338, 2119, 2704, 3274, 4202]</td>\n",
       "      <td>[DB00126, DB14482]</td>\n",
       "      <td>2.0</td>\n",
       "    </tr>\n",
       "    <tr>\n",
       "      <th>1201</th>\n",
       "      <td>Drug</td>\n",
       "      <td>Vitamin D</td>\n",
       "      <td>2</td>\n",
       "      <td>[1885, 3586]</td>\n",
       "      <td>[DB00153, DB11094]</td>\n",
       "      <td>2.0</td>\n",
       "    </tr>\n",
       "    <tr>\n",
       "      <th>1219</th>\n",
       "      <td>Drug</td>\n",
       "      <td>Zinc</td>\n",
       "      <td>4</td>\n",
       "      <td>[1233, 1338, 1541, 2352]</td>\n",
       "      <td>[DB01593, DB14533]</td>\n",
       "      <td>2.0</td>\n",
       "    </tr>\n",
       "    <tr>\n",
       "      <th>1221</th>\n",
       "      <td>Drug</td>\n",
       "      <td>Zinc Sulfate</td>\n",
       "      <td>1</td>\n",
       "      <td>522</td>\n",
       "      <td>[DB09322, DB14548]</td>\n",
       "      <td>2.0</td>\n",
       "    </tr>\n",
       "  </tbody>\n",
       "</table>\n",
       "</div>"
      ],
      "text/plain": [
       "     iType                iName  inputRowCount  \\\n",
       "250   Drug          Candesartan              1   \n",
       "349   Drug      Diphenhydramine              1   \n",
       "494   Drug       Hydrocortisone              3   \n",
       "677   Drug  Lopinavir-Ritonavir              2   \n",
       "771   Drug           Naltrexone              3   \n",
       "939   Drug      Povidone-iodine              1   \n",
       "944   Drug           Prednisone              4   \n",
       "1118  Drug               TNKase              1   \n",
       "1199  Drug            Vitamin C              5   \n",
       "1201  Drug            Vitamin D              2   \n",
       "1219  Drug                 Zinc              4   \n",
       "1221  Drug         Zinc Sulfate              1   \n",
       "\n",
       "                         inputRowIDs               iDBID  iDBIDCount  \n",
       "250                              460  [DB00796, DB13919]         2.0  \n",
       "349                             1069  [DB01075, DB14487]         2.0  \n",
       "494                [454, 1069, 1831]  [DB00741, DB14539]         2.0  \n",
       "677                     [2642, 3035]  [DB00503, DB01601]         2.0  \n",
       "771                [890, 1292, 2587]  [DB00620, DB00704]         2.0  \n",
       "939                              809  [DB05382, DB06812]         2.0  \n",
       "944            [381, 454, 613, 1586]  [DB00635, DB00898]         2.0  \n",
       "1118                            2930  [DB00031, DB02325]         2.0  \n",
       "1199  [1338, 2119, 2704, 3274, 4202]  [DB00126, DB14482]         2.0  \n",
       "1201                    [1885, 3586]  [DB00153, DB11094]         2.0  \n",
       "1219        [1233, 1338, 1541, 2352]  [DB01593, DB14533]         2.0  \n",
       "1221                             522  [DB09322, DB14548]         2.0  "
      ]
     },
     "metadata": {},
     "output_type": "display_data"
    }
   ],
   "source": [
    "display(\"intervention names matching 2 Drug Bank entries\", Drug_iNames_df[Drug_iNames_df['iDBIDCount']==2])\n"
   ]
  },
  {
   "cell_type": "code",
   "execution_count": 18,
   "metadata": {
    "scrolled": true
   },
   "outputs": [
    {
     "data": {
      "text/plain": [
       "'sample of intervention names matching 1 Drug Bank entries'"
      ]
     },
     "metadata": {},
     "output_type": "display_data"
    },
    {
     "data": {
      "text/html": [
       "<div>\n",
       "<style scoped>\n",
       "    .dataframe tbody tr th:only-of-type {\n",
       "        vertical-align: middle;\n",
       "    }\n",
       "\n",
       "    .dataframe tbody tr th {\n",
       "        vertical-align: top;\n",
       "    }\n",
       "\n",
       "    .dataframe thead th {\n",
       "        text-align: right;\n",
       "    }\n",
       "</style>\n",
       "<table border=\"1\" class=\"dataframe\">\n",
       "  <thead>\n",
       "    <tr style=\"text-align: right;\">\n",
       "      <th></th>\n",
       "      <th>iType</th>\n",
       "      <th>iName</th>\n",
       "      <th>inputRowCount</th>\n",
       "      <th>inputRowIDs</th>\n",
       "      <th>iDBID</th>\n",
       "      <th>iDBIDCount</th>\n",
       "    </tr>\n",
       "  </thead>\n",
       "  <tbody>\n",
       "    <tr>\n",
       "      <th>42</th>\n",
       "      <td>Drug</td>\n",
       "      <td>AMY-101</td>\n",
       "      <td>1</td>\n",
       "      <td>1891</td>\n",
       "      <td>[DB14803]</td>\n",
       "      <td>1.0</td>\n",
       "    </tr>\n",
       "    <tr>\n",
       "      <th>49</th>\n",
       "      <td>Drug</td>\n",
       "      <td>AT-001</td>\n",
       "      <td>1</td>\n",
       "      <td>308</td>\n",
       "      <td>[DB15121]</td>\n",
       "      <td>1.0</td>\n",
       "    </tr>\n",
       "    <tr>\n",
       "      <th>61</th>\n",
       "      <td>Drug</td>\n",
       "      <td>AZD1222</td>\n",
       "      <td>1</td>\n",
       "      <td>14</td>\n",
       "      <td>[DB15656]</td>\n",
       "      <td>1.0</td>\n",
       "    </tr>\n",
       "    <tr>\n",
       "      <th>66</th>\n",
       "      <td>Drug</td>\n",
       "      <td>Abatacept</td>\n",
       "      <td>2</td>\n",
       "      <td>[309, 583]</td>\n",
       "      <td>[DB01281]</td>\n",
       "      <td>1.0</td>\n",
       "    </tr>\n",
       "    <tr>\n",
       "      <th>69</th>\n",
       "      <td>Drug</td>\n",
       "      <td>Abivertinib</td>\n",
       "      <td>1</td>\n",
       "      <td>1352</td>\n",
       "      <td>[DB15327]</td>\n",
       "      <td>1.0</td>\n",
       "    </tr>\n",
       "  </tbody>\n",
       "</table>\n",
       "</div>"
      ],
      "text/plain": [
       "   iType        iName  inputRowCount inputRowIDs      iDBID  iDBIDCount\n",
       "42  Drug      AMY-101              1        1891  [DB14803]         1.0\n",
       "49  Drug       AT-001              1         308  [DB15121]         1.0\n",
       "61  Drug      AZD1222              1          14  [DB15656]         1.0\n",
       "66  Drug    Abatacept              2  [309, 583]  [DB01281]         1.0\n",
       "69  Drug  Abivertinib              1        1352  [DB15327]         1.0"
      ]
     },
     "metadata": {},
     "output_type": "display_data"
    }
   ],
   "source": [
    "display(\"sample of intervention names matching 1 Drug Bank entries\", Drug_iNames_df[Drug_iNames_df['iDBIDCount']==1].head())\n"
   ]
  },
  {
   "cell_type": "code",
   "execution_count": 19,
   "metadata": {},
   "outputs": [
    {
     "name": "stdout",
     "output_type": "stream",
     "text": [
      "lapse time to match:  33.486955881118774\n"
     ]
    }
   ],
   "source": [
    "# repeat matching - but for ALL intervention types to see if drugs in drug bank were misclassified\n",
    "start = time.time()\n",
    "allDrug_iNames_df['iDBID'] = allDrug_iNames_df['iName'].apply(searchDBAlias)\n",
    "lapse = time.time() - start \n",
    "print(\"lapse time to match: \", lapse)\n",
    "\n"
   ]
  },
  {
   "cell_type": "code",
   "execution_count": 20,
   "metadata": {
    "scrolled": false
   },
   "outputs": [
    {
     "data": {
      "text/plain": [
       "0.0     3796\n",
       "1.0      264\n",
       "2.0       12\n",
       "16.0       1\n",
       "7.0        1\n",
       "4.0        1\n",
       "Name: iDBIDCount, dtype: int64"
      ]
     },
     "metadata": {},
     "output_type": "display_data"
    }
   ],
   "source": [
    "\n",
    "allDrug_iNames_df['iDBIDCount'] = allDrug_iNames_df['iDBID'].astype('str').str.count(\"'\")/2 \n",
    "display(allDrug_iNames_df['iDBIDCount'].value_counts())\n",
    "\n"
   ]
  },
  {
   "cell_type": "markdown",
   "metadata": {},
   "source": [
    "including non-drug intervention types increases matches to Drug Bank \n",
    "so, ignore intervention type and move forward with ALL records "
   ]
  },
  {
   "cell_type": "markdown",
   "metadata": {},
   "source": [
    "# create exception lists for review \n",
    "## to inform text cleanup below"
   ]
  },
  {
   "cell_type": "code",
   "execution_count": 21,
   "metadata": {},
   "outputs": [
    {
     "data": {
      "text/html": [
       "<div>\n",
       "<style scoped>\n",
       "    .dataframe tbody tr th:only-of-type {\n",
       "        vertical-align: middle;\n",
       "    }\n",
       "\n",
       "    .dataframe tbody tr th {\n",
       "        vertical-align: top;\n",
       "    }\n",
       "\n",
       "    .dataframe thead th {\n",
       "        text-align: right;\n",
       "    }\n",
       "</style>\n",
       "<table border=\"1\" class=\"dataframe\">\n",
       "  <thead>\n",
       "    <tr style=\"text-align: right;\">\n",
       "      <th></th>\n",
       "      <th>iName</th>\n",
       "      <th>inputRowCount</th>\n",
       "      <th>inputRowIDs</th>\n",
       "      <th>iDBID</th>\n",
       "      <th>iDBIDCount</th>\n",
       "    </tr>\n",
       "  </thead>\n",
       "  <tbody>\n",
       "    <tr>\n",
       "      <th>83</th>\n",
       "      <td>AMY-101</td>\n",
       "      <td>1</td>\n",
       "      <td>1891</td>\n",
       "      <td>[DB14803]</td>\n",
       "      <td>1.0</td>\n",
       "    </tr>\n",
       "    <tr>\n",
       "      <th>108</th>\n",
       "      <td>AT-001</td>\n",
       "      <td>1</td>\n",
       "      <td>308</td>\n",
       "      <td>[DB15121]</td>\n",
       "      <td>1.0</td>\n",
       "    </tr>\n",
       "    <tr>\n",
       "      <th>124</th>\n",
       "      <td>AZD1222</td>\n",
       "      <td>3</td>\n",
       "      <td>[14, 19, 231]</td>\n",
       "      <td>[DB15656]</td>\n",
       "      <td>1.0</td>\n",
       "    </tr>\n",
       "    <tr>\n",
       "      <th>129</th>\n",
       "      <td>Abatacept</td>\n",
       "      <td>3</td>\n",
       "      <td>[309, 583, 607]</td>\n",
       "      <td>[DB01281]</td>\n",
       "      <td>1.0</td>\n",
       "    </tr>\n",
       "    <tr>\n",
       "      <th>133</th>\n",
       "      <td>Abivertinib</td>\n",
       "      <td>1</td>\n",
       "      <td>1352</td>\n",
       "      <td>[DB15327]</td>\n",
       "      <td>1.0</td>\n",
       "    </tr>\n",
       "  </tbody>\n",
       "</table>\n",
       "</div>"
      ],
      "text/plain": [
       "           iName  inputRowCount      inputRowIDs      iDBID  iDBIDCount\n",
       "83       AMY-101              1             1891  [DB14803]         1.0\n",
       "108       AT-001              1              308  [DB15121]         1.0\n",
       "124      AZD1222              3    [14, 19, 231]  [DB15656]         1.0\n",
       "129    Abatacept              3  [309, 583, 607]  [DB01281]         1.0\n",
       "133  Abivertinib              1             1352  [DB15327]         1.0"
      ]
     },
     "execution_count": 21,
     "metadata": {},
     "output_type": "execute_result"
    }
   ],
   "source": [
    "allDrug_iNames_df[allDrug_iNames_df['iDBIDCount'] > 0].head()"
   ]
  },
  {
   "cell_type": "markdown",
   "metadata": {},
   "source": [
    "# Write out ClinicalTrialsTruth.tsv file\n",
    "\n",
    "DBID, iType, iName (most common? or list ?), inputRows, status, study_results, (parse phase?)"
   ]
  },
  {
   "cell_type": "code",
   "execution_count": 22,
   "metadata": {
    "scrolled": false
   },
   "outputs": [
    {
     "data": {
      "text/html": [
       "<div>\n",
       "<style scoped>\n",
       "    .dataframe tbody tr th:only-of-type {\n",
       "        vertical-align: middle;\n",
       "    }\n",
       "\n",
       "    .dataframe tbody tr th {\n",
       "        vertical-align: top;\n",
       "    }\n",
       "\n",
       "    .dataframe thead th {\n",
       "        text-align: right;\n",
       "    }\n",
       "</style>\n",
       "<table border=\"1\" class=\"dataframe\">\n",
       "  <thead>\n",
       "    <tr style=\"text-align: right;\">\n",
       "      <th></th>\n",
       "      <th>iName</th>\n",
       "      <th>inputRowCount</th>\n",
       "      <th>inputRowIDs</th>\n",
       "      <th>iDBID</th>\n",
       "      <th>iDBIDCount</th>\n",
       "    </tr>\n",
       "  </thead>\n",
       "  <tbody>\n",
       "    <tr>\n",
       "      <th>83</th>\n",
       "      <td>AMY-101</td>\n",
       "      <td>1</td>\n",
       "      <td>1891</td>\n",
       "      <td>[DB14803]</td>\n",
       "      <td>1.0</td>\n",
       "    </tr>\n",
       "    <tr>\n",
       "      <th>108</th>\n",
       "      <td>AT-001</td>\n",
       "      <td>1</td>\n",
       "      <td>308</td>\n",
       "      <td>[DB15121]</td>\n",
       "      <td>1.0</td>\n",
       "    </tr>\n",
       "    <tr>\n",
       "      <th>124</th>\n",
       "      <td>AZD1222</td>\n",
       "      <td>3</td>\n",
       "      <td>[14, 19, 231]</td>\n",
       "      <td>[DB15656]</td>\n",
       "      <td>1.0</td>\n",
       "    </tr>\n",
       "    <tr>\n",
       "      <th>129</th>\n",
       "      <td>Abatacept</td>\n",
       "      <td>3</td>\n",
       "      <td>[309, 583, 607]</td>\n",
       "      <td>[DB01281]</td>\n",
       "      <td>1.0</td>\n",
       "    </tr>\n",
       "    <tr>\n",
       "      <th>133</th>\n",
       "      <td>Abivertinib</td>\n",
       "      <td>1</td>\n",
       "      <td>1352</td>\n",
       "      <td>[DB15327]</td>\n",
       "      <td>1.0</td>\n",
       "    </tr>\n",
       "  </tbody>\n",
       "</table>\n",
       "</div>"
      ],
      "text/plain": [
       "           iName  inputRowCount      inputRowIDs      iDBID  iDBIDCount\n",
       "83       AMY-101              1             1891  [DB14803]         1.0\n",
       "108       AT-001              1              308  [DB15121]         1.0\n",
       "124      AZD1222              3    [14, 19, 231]  [DB15656]         1.0\n",
       "129    Abatacept              3  [309, 583, 607]  [DB01281]         1.0\n",
       "133  Abivertinib              1             1352  [DB15327]         1.0"
      ]
     },
     "metadata": {},
     "output_type": "display_data"
    },
    {
     "data": {
      "text/plain": [
       "pandas.core.series.Series"
      ]
     },
     "metadata": {},
     "output_type": "display_data"
    },
    {
     "data": {
      "text/plain": [
       "(279,)"
      ]
     },
     "metadata": {},
     "output_type": "display_data"
    },
    {
     "data": {
      "text/plain": [
       "['DB15121']"
      ]
     },
     "metadata": {},
     "output_type": "display_data"
    },
    {
     "data": {
      "text/plain": [
       "list"
      ]
     },
     "metadata": {},
     "output_type": "display_data"
    },
    {
     "data": {
      "text/html": [
       "<div>\n",
       "<style scoped>\n",
       "    .dataframe tbody tr th:only-of-type {\n",
       "        vertical-align: middle;\n",
       "    }\n",
       "\n",
       "    .dataframe tbody tr th {\n",
       "        vertical-align: top;\n",
       "    }\n",
       "\n",
       "    .dataframe thead th {\n",
       "        text-align: right;\n",
       "    }\n",
       "</style>\n",
       "<table border=\"1\" class=\"dataframe\">\n",
       "  <thead>\n",
       "    <tr style=\"text-align: right;\">\n",
       "      <th></th>\n",
       "      <th>iName</th>\n",
       "      <th>inputRowCount</th>\n",
       "      <th>inputRowIDs</th>\n",
       "      <th>iDBIDCount</th>\n",
       "      <th>iDBID</th>\n",
       "    </tr>\n",
       "  </thead>\n",
       "  <tbody>\n",
       "    <tr>\n",
       "      <th>184</th>\n",
       "      <td>Alisporivir</td>\n",
       "      <td>1</td>\n",
       "      <td>2226</td>\n",
       "      <td>1.0</td>\n",
       "      <td>DB12139</td>\n",
       "    </tr>\n",
       "    <tr>\n",
       "      <th>190</th>\n",
       "      <td>Almitrine</td>\n",
       "      <td>1</td>\n",
       "      <td>2180</td>\n",
       "      <td>1.0</td>\n",
       "      <td>DB01430</td>\n",
       "    </tr>\n",
       "    <tr>\n",
       "      <th>194</th>\n",
       "      <td>Alteplase</td>\n",
       "      <td>1</td>\n",
       "      <td>3752</td>\n",
       "      <td>1.0</td>\n",
       "      <td>DB00009</td>\n",
       "    </tr>\n",
       "    <tr>\n",
       "      <th>196</th>\n",
       "      <td>Alvelestat</td>\n",
       "      <td>1</td>\n",
       "      <td>1162</td>\n",
       "      <td>1.0</td>\n",
       "      <td>DB11863</td>\n",
       "    </tr>\n",
       "    <tr>\n",
       "      <th>197</th>\n",
       "      <td>Ambrisentan</td>\n",
       "      <td>1</td>\n",
       "      <td>804</td>\n",
       "      <td>1.0</td>\n",
       "      <td>DB06403</td>\n",
       "    </tr>\n",
       "    <tr>\n",
       "      <th>198</th>\n",
       "      <td>Amiodarone</td>\n",
       "      <td>1</td>\n",
       "      <td>340</td>\n",
       "      <td>1.0</td>\n",
       "      <td>DB01118</td>\n",
       "    </tr>\n",
       "    <tr>\n",
       "      <th>199</th>\n",
       "      <td>Amlodipine</td>\n",
       "      <td>1</td>\n",
       "      <td>3746</td>\n",
       "      <td>1.0</td>\n",
       "      <td>DB00381</td>\n",
       "    </tr>\n",
       "    <tr>\n",
       "      <th>201</th>\n",
       "      <td>Ampion</td>\n",
       "      <td>2</td>\n",
       "      <td>[453, 1288]</td>\n",
       "      <td>1.0</td>\n",
       "      <td>DB14940</td>\n",
       "    </tr>\n",
       "    <tr>\n",
       "      <th>203</th>\n",
       "      <td>Anakinra</td>\n",
       "      <td>10</td>\n",
       "      <td>[271, 1841, 2149, 2263, 2330, 2690, 2974, 3274...</td>\n",
       "      <td>1.0</td>\n",
       "      <td>DB00026</td>\n",
       "    </tr>\n",
       "    <tr>\n",
       "      <th>216</th>\n",
       "      <td>Angiotensin 1-7</td>\n",
       "      <td>2</td>\n",
       "      <td>[705, 2964]</td>\n",
       "      <td>1.0</td>\n",
       "      <td>DB11720</td>\n",
       "    </tr>\n",
       "    <tr>\n",
       "      <th>217</th>\n",
       "      <td>Angiotensin II</td>\n",
       "      <td>1</td>\n",
       "      <td>2956</td>\n",
       "      <td>1.0</td>\n",
       "      <td>DB11842</td>\n",
       "    </tr>\n",
       "    <tr>\n",
       "      <th>239</th>\n",
       "      <td>Antibiotic</td>\n",
       "      <td>1</td>\n",
       "      <td>3730</td>\n",
       "      <td>4.0</td>\n",
       "      <td>DB00626</td>\n",
       "    </tr>\n",
       "    <tr>\n",
       "      <th>239</th>\n",
       "      <td>Antibiotic</td>\n",
       "      <td>1</td>\n",
       "      <td>3730</td>\n",
       "      <td>4.0</td>\n",
       "      <td>DB00781</td>\n",
       "    </tr>\n",
       "    <tr>\n",
       "      <th>239</th>\n",
       "      <td>Antibiotic</td>\n",
       "      <td>1</td>\n",
       "      <td>3730</td>\n",
       "      <td>4.0</td>\n",
       "      <td>DB00994</td>\n",
       "    </tr>\n",
       "    <tr>\n",
       "      <th>239</th>\n",
       "      <td>Antibiotic</td>\n",
       "      <td>1</td>\n",
       "      <td>3730</td>\n",
       "      <td>4.0</td>\n",
       "      <td>DB09345</td>\n",
       "    </tr>\n",
       "    <tr>\n",
       "      <th>250</th>\n",
       "      <td>Antithrombin III</td>\n",
       "      <td>1</td>\n",
       "      <td>1355</td>\n",
       "      <td>1.0</td>\n",
       "      <td>DB11598</td>\n",
       "    </tr>\n",
       "    <tr>\n",
       "      <th>253</th>\n",
       "      <td>Antroquinonol</td>\n",
       "      <td>1</td>\n",
       "      <td>911</td>\n",
       "      <td>1.0</td>\n",
       "      <td>DB12326</td>\n",
       "    </tr>\n",
       "    <tr>\n",
       "      <th>256</th>\n",
       "      <td>Apixaban</td>\n",
       "      <td>1</td>\n",
       "      <td>1095</td>\n",
       "      <td>1.0</td>\n",
       "      <td>DB06605</td>\n",
       "    </tr>\n",
       "    <tr>\n",
       "      <th>262</th>\n",
       "      <td>Apremilast</td>\n",
       "      <td>3</td>\n",
       "      <td>[75, 534, 3274]</td>\n",
       "      <td>1.0</td>\n",
       "      <td>DB05676</td>\n",
       "    </tr>\n",
       "    <tr>\n",
       "      <th>264</th>\n",
       "      <td>Aprotinin</td>\n",
       "      <td>1</td>\n",
       "      <td>95</td>\n",
       "      <td>1.0</td>\n",
       "      <td>DB06692</td>\n",
       "    </tr>\n",
       "  </tbody>\n",
       "</table>\n",
       "</div>"
      ],
      "text/plain": [
       "                iName  inputRowCount  \\\n",
       "184       Alisporivir              1   \n",
       "190         Almitrine              1   \n",
       "194         Alteplase              1   \n",
       "196        Alvelestat              1   \n",
       "197       Ambrisentan              1   \n",
       "198        Amiodarone              1   \n",
       "199        Amlodipine              1   \n",
       "201            Ampion              2   \n",
       "203          Anakinra             10   \n",
       "216   Angiotensin 1-7              2   \n",
       "217    Angiotensin II              1   \n",
       "239        Antibiotic              1   \n",
       "239        Antibiotic              1   \n",
       "239        Antibiotic              1   \n",
       "239        Antibiotic              1   \n",
       "250  Antithrombin III              1   \n",
       "253     Antroquinonol              1   \n",
       "256          Apixaban              1   \n",
       "262        Apremilast              3   \n",
       "264         Aprotinin              1   \n",
       "\n",
       "                                           inputRowIDs  iDBIDCount    iDBID  \n",
       "184                                               2226         1.0  DB12139  \n",
       "190                                               2180         1.0  DB01430  \n",
       "194                                               3752         1.0  DB00009  \n",
       "196                                               1162         1.0  DB11863  \n",
       "197                                                804         1.0  DB06403  \n",
       "198                                                340         1.0  DB01118  \n",
       "199                                               3746         1.0  DB00381  \n",
       "201                                        [453, 1288]         1.0  DB14940  \n",
       "203  [271, 1841, 2149, 2263, 2330, 2690, 2974, 3274...         1.0  DB00026  \n",
       "216                                        [705, 2964]         1.0  DB11720  \n",
       "217                                               2956         1.0  DB11842  \n",
       "239                                               3730         4.0  DB00626  \n",
       "239                                               3730         4.0  DB00781  \n",
       "239                                               3730         4.0  DB00994  \n",
       "239                                               3730         4.0  DB09345  \n",
       "250                                               1355         1.0  DB11598  \n",
       "253                                                911         1.0  DB12326  \n",
       "256                                               1095         1.0  DB06605  \n",
       "262                                    [75, 534, 3274]         1.0  DB05676  \n",
       "264                                                 95         1.0  DB06692  "
      ]
     },
     "metadata": {},
     "output_type": "display_data"
    }
   ],
   "source": [
    "ProposedTruth_df = allDrug_iNames_df[ allDrug_iNames_df['iDBIDCount'] > 0 ].copy()\n",
    "display(ProposedTruth_df.head())\n",
    "display(ProposedTruth_df.iDBID.__class__)\n",
    "display(ProposedTruth_df.iDBID.shape)\n",
    "display(ProposedTruth_df.iDBID.iloc[1])\n",
    "display(ProposedTruth_df.iDBID.iloc[1].__class__)\n",
    "\n",
    "#expand out to one row per intervention-Drubank ID \n",
    "s = ProposedTruth_df.apply(lambda x: pd.Series(x['iDBID']),axis=1).stack().reset_index(level=1, drop=True)\n",
    "s.name = 'iDBID'\n",
    "#display(s)\n",
    "\n",
    "ProposedTruth_df = ProposedTruth_df.drop('iDBID', axis=1).join(s)\n",
    "display(ProposedTruth_df[10:30])"
   ]
  },
  {
   "cell_type": "code",
   "execution_count": 23,
   "metadata": {},
   "outputs": [],
   "source": [
    "ProposedTruth_df.to_csv(\"ProposedTruth.csv\")\n"
   ]
  },
  {
   "cell_type": "code",
   "execution_count": null,
   "metadata": {},
   "outputs": [],
   "source": []
  },
  {
   "cell_type": "markdown",
   "metadata": {},
   "source": [
    "# Concept for Future Development"
   ]
  },
  {
   "cell_type": "markdown",
   "metadata": {},
   "source": [
    "## apply manual override file (for when just typing in the change is easier)\n",
    "\n",
    "## NOTE: any manual overrides should be entered into a .csv file and treated as data\n"
   ]
  },
  {
   "cell_type": "code",
   "execution_count": 24,
   "metadata": {},
   "outputs": [],
   "source": [
    "# add an additional file to INSERT complicated records that contain more than one drug\n",
    "# 541\tDrug\tHydroxychloroquine, Clindamycin, Primaquine - ...\n"
   ]
  },
  {
   "cell_type": "code",
   "execution_count": null,
   "metadata": {},
   "outputs": [],
   "source": [
    "# read exception override file\n",
    "iName_Overrides_df = pd.read_csv(CTPath + 'ctrials_iname_overrides.csv', delimiter='\\t')\n",
    "display(iName_Overrides_df.head())\n"
   ]
  },
  {
   "cell_type": "code",
   "execution_count": 28,
   "metadata": {},
   "outputs": [
    {
     "data": {
      "text/plain": [
       "left_only     1312\n",
       "both             1\n",
       "right_only       0\n",
       "Name: _merge, dtype: int64"
      ]
     },
     "metadata": {},
     "output_type": "display_data"
    },
    {
     "data": {
      "text/html": [
       "<div>\n",
       "<style scoped>\n",
       "    .dataframe tbody tr th:only-of-type {\n",
       "        vertical-align: middle;\n",
       "    }\n",
       "\n",
       "    .dataframe tbody tr th {\n",
       "        vertical-align: top;\n",
       "    }\n",
       "\n",
       "    .dataframe thead th {\n",
       "        text-align: right;\n",
       "    }\n",
       "</style>\n",
       "<table border=\"1\" class=\"dataframe\">\n",
       "  <thead>\n",
       "    <tr style=\"text-align: right;\">\n",
       "      <th></th>\n",
       "      <th>iType</th>\n",
       "      <th>iNameOld</th>\n",
       "      <th>inputRowCount</th>\n",
       "      <th>inputRowIDs</th>\n",
       "      <th>iDBID</th>\n",
       "      <th>iDBIDCount</th>\n",
       "      <th>iNameNew</th>\n",
       "      <th>_merge</th>\n",
       "    </tr>\n",
       "  </thead>\n",
       "  <tbody>\n",
       "    <tr>\n",
       "      <th>92</th>\n",
       "      <td>Drug</td>\n",
       "      <td>Alteplase 50 MG [Activase]</td>\n",
       "      <td>1</td>\n",
       "      <td>3155</td>\n",
       "      <td>[]</td>\n",
       "      <td>0.0</td>\n",
       "      <td>Alteplase</td>\n",
       "      <td>both</td>\n",
       "    </tr>\n",
       "  </tbody>\n",
       "</table>\n",
       "</div>"
      ],
      "text/plain": [
       "   iType                    iNameOld  inputRowCount inputRowIDs iDBID  \\\n",
       "92  Drug  Alteplase 50 MG [Activase]              1        3155    []   \n",
       "\n",
       "    iDBIDCount   iNameNew _merge  \n",
       "92         0.0  Alteplase   both  "
      ]
     },
     "metadata": {},
     "output_type": "display_data"
    }
   ],
   "source": [
    "# apply exception override file\n",
    "Drug_iNamesNew_df = pd.merge(Drug_iNames_df, iName_Overrides_df, how='left', on='iName', indicator=True)\n",
    "display(Drug_iNamesNew_df['_merge'].value_counts())\n",
    "\n",
    "Drug_iNamesNew_df.rename(columns = {'iName':'iNameOld'}, inplace = True)\n",
    "Drug_iNamesNew_df = Drug_iNamesNew_df[Drug_iNamesNew_df._merge=='both']\n",
    "display(Drug_iNamesNew_df.head())\n"
   ]
  },
  {
   "cell_type": "markdown",
   "metadata": {},
   "source": [
    "### now match cleaned text into drug-bank"
   ]
  },
  {
   "cell_type": "code",
   "execution_count": 29,
   "metadata": {},
   "outputs": [
    {
     "name": "stdout",
     "output_type": "stream",
     "text": [
      "lapse time to match:  0.1085197925567627\n"
     ]
    }
   ],
   "source": [
    "# repeat matching - but for ALL intervention types to see if drugs in drug bank were misclassified\n",
    "start = time.time()\n",
    "Drug_iNamesNew_df['iDBID'] = Drug_iNamesNew_df['iNameNew'].apply(searchDBAlias)\n",
    "lapse = time.time() - start \n",
    "print(\"lapse time to match: \", lapse)\n",
    "\n"
   ]
  },
  {
   "cell_type": "code",
   "execution_count": 30,
   "metadata": {
    "scrolled": false
   },
   "outputs": [
    {
     "data": {
      "text/plain": [
       "1.0    1\n",
       "Name: iDBIDCount, dtype: int64"
      ]
     },
     "metadata": {},
     "output_type": "display_data"
    }
   ],
   "source": [
    "\n",
    "Drug_iNamesNew_df['iDBIDCount'] = Drug_iNamesNew_df['iDBID'].astype('str').str.count(\"'\")/2 \n",
    "display(Drug_iNamesNew_df['iDBIDCount'].value_counts())\n",
    "\n"
   ]
  },
  {
   "cell_type": "code",
   "execution_count": 31,
   "metadata": {},
   "outputs": [
    {
     "data": {
      "text/html": [
       "<div>\n",
       "<style scoped>\n",
       "    .dataframe tbody tr th:only-of-type {\n",
       "        vertical-align: middle;\n",
       "    }\n",
       "\n",
       "    .dataframe tbody tr th {\n",
       "        vertical-align: top;\n",
       "    }\n",
       "\n",
       "    .dataframe thead th {\n",
       "        text-align: right;\n",
       "    }\n",
       "</style>\n",
       "<table border=\"1\" class=\"dataframe\">\n",
       "  <thead>\n",
       "    <tr style=\"text-align: right;\">\n",
       "      <th></th>\n",
       "      <th>iType</th>\n",
       "      <th>iNameOld</th>\n",
       "      <th>inputRowCount</th>\n",
       "      <th>inputRowIDs</th>\n",
       "      <th>iDBID</th>\n",
       "      <th>iDBIDCount</th>\n",
       "      <th>iNameNew</th>\n",
       "      <th>_merge</th>\n",
       "    </tr>\n",
       "  </thead>\n",
       "  <tbody>\n",
       "    <tr>\n",
       "      <th>92</th>\n",
       "      <td>Drug</td>\n",
       "      <td>Alteplase 50 MG [Activase]</td>\n",
       "      <td>1</td>\n",
       "      <td>3155</td>\n",
       "      <td>[DB00009]</td>\n",
       "      <td>1.0</td>\n",
       "      <td>Alteplase</td>\n",
       "      <td>both</td>\n",
       "    </tr>\n",
       "  </tbody>\n",
       "</table>\n",
       "</div>"
      ],
      "text/plain": [
       "   iType                    iNameOld  inputRowCount inputRowIDs      iDBID  \\\n",
       "92  Drug  Alteplase 50 MG [Activase]              1        3155  [DB00009]   \n",
       "\n",
       "    iDBIDCount   iNameNew _merge  \n",
       "92         1.0  Alteplase   both  "
      ]
     },
     "metadata": {},
     "output_type": "display_data"
    }
   ],
   "source": [
    "display(Drug_iNamesNew_df.head())"
   ]
  },
  {
   "cell_type": "code",
   "execution_count": null,
   "metadata": {},
   "outputs": [],
   "source": []
  }
 ],
 "metadata": {
  "kernelspec": {
   "display_name": "Python 3",
   "language": "python",
   "name": "python3"
  },
  "language_info": {
   "codemirror_mode": {
    "name": "ipython",
    "version": 3
   },
   "file_extension": ".py",
   "mimetype": "text/x-python",
   "name": "python",
   "nbconvert_exporter": "python",
   "pygments_lexer": "ipython3",
   "version": "3.7.3"
  }
 },
 "nbformat": 4,
 "nbformat_minor": 2
}
