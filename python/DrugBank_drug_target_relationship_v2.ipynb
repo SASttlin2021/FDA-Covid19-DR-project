{
 "cells": [
  {
   "cell_type": "markdown",
   "source": [
    "# Drug Bank XML Pre Processing\n",
    "<br>\n",
    "\n",
    "### Creates TSV (tab separated variable) Tables + 1 JSON (for synonyms)\n",
    "\n",
    "- aliases.json\n",
    "- drugbank.tsv\n",
    "- drugbank-slim.tsv\n",
    "- drugbank-indication.tsv\n",
    "- proteins.tsv\n",
    "<br>\n",
    "\n",
    "### Revision History\n",
    "- updated synonym code to catch missing synonyms\n",
    "- update drug selection to choose ALL Small Molecule Drugs (not only approved)\n",
    "\n"
   ],
   "metadata": {}
  },
  {
   "cell_type": "code",
   "execution_count": null,
   "source": [
    "import os\n",
    "import csv\n",
    "import gzip\n",
    "import collections\n",
    "import re\n",
    "import io\n",
    "import json\n",
    "import xml.etree.ElementTree as ET\n",
    "import numpy as np\n",
    "\n",
    "import requests\n",
    "import pandas as pd\n",
    "import xmltodict\n"
   ],
   "outputs": [],
   "metadata": {}
  },
  {
   "cell_type": "code",
   "execution_count": null,
   "source": [
    "# set up path directories\n",
    "print(os.getcwd())\n",
    "FDAPath = os.getcwd() + '/../data/source/'\n",
    "DBPath = FDAPath + \"DrugBank/\"\n",
    "\n",
    "download = DBPath + 'drugbank_all_full_database'\n",
    "savepath = DBPath + 'DrugBank_CSVs'\n",
    "\n",
    "xml_path = os.path.join(download, 'drugbank.xml') # just renamed above to match the xsd file\n",
    "print(xml_path)\n",
    "\n",
    "with open(xml_path,encoding=\"utf8\") as xml_file:\n",
    "    tree = ET.parse(xml_file) # read the XML File (tree)\n",
    "root = tree.getroot()         # get root of the XML Tree"
   ],
   "outputs": [],
   "metadata": {
    "scrolled": true
   }
  },
  {
   "cell_type": "code",
   "execution_count": null,
   "source": [
    "ns = '{http://www.drugbank.ca}'\n",
    "inchikey_template = \"{ns}calculated-properties/{ns}property[{ns}kind='InChIKey']/{ns}value\"\n",
    "inchi_template = \"{ns}calculated-properties/{ns}property[{ns}kind='InChI']/{ns}value\"\n",
    "\n",
    "rows = list()\n",
    "for i, drug in enumerate(root):\n",
    "    row = collections.OrderedDict()\n",
    "    assert drug.tag == ns + 'drug'\n",
    "    row['type'] = drug.get('type')\n",
    "    row['drugbank_id'] = drug.findtext(ns + \"drugbank-id[@primary='true']\")\n",
    "    row['name'] = drug.findtext(ns + \"name\")\n",
    "    row['description'] = drug.findtext(ns + \"description\")\n",
    "    row['indication'] = drug.findtext(ns+'indication')\n",
    "    row['groups'] = [group.text for group in\n",
    "        drug.findall(\"{ns}groups/{ns}group\".format(ns = ns))]\n",
    "    row['atc_codes'] = [code.get('code') for code in\n",
    "        drug.findall(\"{ns}atc-codes/{ns}atc-code\".format(ns = ns))]\n",
    "    row['categories'] = [x.findtext(ns + 'category') for x in\n",
    "        drug.findall(\"{ns}categories/{ns}category\".format(ns = ns))]\n",
    "    row['inchi'] = drug.findtext(inchi_template.format(ns = ns))\n",
    "    row['inchikey'] = drug.findtext(inchikey_template.format(ns = ns))\n",
    "    \n",
    "    # Add drug aliases\n",
    "    aliases = {\n",
    "        elem.text for elem in \n",
    "        drug.findall(\"{ns}international-brands/{ns}international-brand\".format(ns = ns)) +\n",
    "        drug.findall(\"{ns}synonyms/{ns}synonym[@language='English']\".format(ns = ns)) +\n",
    "        drug.findall(\"{ns}international-brands/{ns}international-brand\".format(ns = ns)) +\n",
    "        drug.findall(\"{ns}products/{ns}product/{ns}name\".format(ns = ns))\n",
    "\n",
    "    }\n",
    "    aliases.add(row['name'])\n",
    "    row['aliases'] = sorted(aliases)\n",
    "\n",
    "    rows.append(row)"
   ],
   "outputs": [],
   "metadata": {}
  },
  {
   "cell_type": "code",
   "execution_count": null,
   "source": [
    "# alternate parsing - 20210506 rkc\n",
    "\n",
    "ns = '{http://www.drugbank.ca}'\n",
    "inchikey_template = \"{ns}calculated-properties/{ns}property[{ns}kind='InChIKey']/{ns}value\"\n",
    "inchi_template = \"{ns}calculated-properties/{ns}property[{ns}kind='InChI']/{ns}value\"\n",
    "aliases = {}\n",
    "newrows = list()\n",
    "for i, drugnew in enumerate(root):\n",
    "    row = collections.OrderedDict()\n",
    "    assert drugnew.tag == ns + 'drug'\n",
    "    row['type'] = drugnew.get('type')\n",
    "    row['drugbank_id'] = drugnew.findtext(ns + \"drugbank-id[@primary='true']\")\n",
    "    row['name'] = drugnew.findtext(ns + \"name\")\n",
    "    row['description'] = drugnew.findtext(ns + \"description\")\n",
    "    row['indication'] = drugnew.findtext(ns+'indication')\n",
    "    row['groups'] = [group.text for group in\n",
    "        drugnew.findall(\"{ns}groups/{ns}group\".format(ns = ns))]\n",
    "    row['atc_codes'] = [code.get('code') for code in\n",
    "        drugnew.findall(\"{ns}atc-codes/{ns}atc-code\".format(ns = ns))]\n",
    "    row['categories'] = [x.findtext(ns + 'category') for x in\n",
    "        drugnew.findall(\"{ns}categories/{ns}category\".format(ns = ns))]\n",
    "    row['inchi'] = drugnew.findtext(inchi_template.format(ns = ns))\n",
    "    row['inchikey'] = drugnew.findtext(inchikey_template.format(ns = ns))\n",
    "\n",
    "    row['SMILES'] = drugnew.findall(\"{ns}calculated-properties/{ns}property[@kind='SMILES']\".format(ns = ns))\n",
    "    \n",
    "    # Add drug aliases\n",
    "    aliases = {\n",
    "        elem.text for elem in \n",
    "        # added /{ns}name to correct missing names here\n",
    "        drugnew.findall(\"{ns}international-brands/{ns}international-brand/{ns}name\".format(ns = ns)) +\n",
    "        # why use only english ?   remove this limit\n",
    "        #drugnew.findall(\"{ns}synonyms/{ns}synonym[@language='English']\".format(ns = ns)) +\n",
    "        drugnew.findall(\"{ns}synonyms/{ns}synonym\".format(ns = ns)) +\n",
    "        # why have the international-brands in 2x ?   remove this\n",
    "        #drugnew.findall(\"{ns}international-brands/{ns}international-brand\".format(ns = ns)) +\n",
    "        drugnew.findall(\"{ns}products/{ns}product/{ns}name\".format(ns = ns))\n",
    "\n",
    "    }\n",
    "    aliases.add(row['name'])\n",
    "    row['aliases'] = sorted(aliases)\n",
    "    \n",
    "    newrows.append(row)\n",
    "\n",
    "drugbanknew_df = pd.DataFrame.from_dict(newrows)\n",
    "\n",
    "pd.options.display.max_colwidth = 500\n",
    "print(\"drugbanknew_df class is: \", drugbanknew_df.__class__)\n",
    "print(\"drugbanknew_df.groups class is: \", drugbanknew_df.groups.__class__)\n",
    "print(\"drugbanknew_df.atc_codes class is: \", drugbanknew_df.atc_codes.__class__)\n",
    "print(\"drugbanknew_df.categories class is: \", drugbanknew_df.categories.__class__)\n",
    "print(\"drugbanknew_df.aliases class is: \", drugbanknew_df.aliases.__class__)\n",
    "print(drugbanknew_df.shape)\n",
    "#display(drugbanknew_df.head(8))\n",
    "display(drugbanknew_df.iloc[:2])\n",
    "display(drugbanknew_df.iloc[5])\n",
    "\n",
    "display(pd.DataFrame(drugbanknew_df['type'].value_counts()))\n",
    "drugbanknew_df = drugbanknew_df[drugbanknew_df.type == 'small molecule']\n",
    "display(pd.DataFrame(drugbanknew_df['type'].value_counts()))\n"
   ],
   "outputs": [],
   "metadata": {
    "scrolled": true
   }
  },
  {
   "cell_type": "code",
   "execution_count": null,
   "source": [
    "\n",
    "with open(xml_path, encoding=\"utf8\") as db:\n",
    "    doc = xmltodict.parse(db.read())\n",
    "\n",
    "    values = []\n",
    "for item in doc['drugbank']['drug']:\n",
    "    logp = None\n",
    "    try:\n",
    "        ID = item['drugbank-id']['#text']\n",
    "        prop = item['experimental-properties']\n",
    "        calc = item['calculated-properties']\n",
    "        if prop is not None:\n",
    "            # Iterate through the list of propterties\n",
    "            prop_list = prop['property']\n",
    "            if type(prop_list) is not list:\n",
    "                prop_list = [prop_list]\n",
    "            for p in prop_list:\n",
    "                if p['kind'] == logP:\n",
    "                    logp = p['value']\n",
    "        if logp is not None:\n",
    "            for prop in calc['property']:\n",
    "                if prop['kind'] == SMILES:\n",
    "                    smiles = prop['value']\n",
    "                if prop['kind'] == logP:\n",
    "                    logp_exp = prop['value']\n",
    "            values.append((ID, smiles, logp, logp_exp))\n",
    "    except:\n",
    "        pass\n",
    "\n",
    "values_df = pd.DataFrame(values)\n",
    "columns = [\"DrugBankID\", \"SMILES\", \"expLogP\", \"calcLogP\"]\n",
    "#values_df.columns = columns\n"
   ],
   "outputs": [],
   "metadata": {
    "scrolled": true
   }
  },
  {
   "cell_type": "code",
   "execution_count": null,
   "source": [
    "values_df.shape\n"
   ],
   "outputs": [],
   "metadata": {}
  },
  {
   "cell_type": "code",
   "execution_count": null,
   "source": [
    "# save aliases.json file\n",
    "aliasoutf = savepath+'/aliases.json'\n",
    "print(aliasoutf)\n",
    "alias_dict = {row['drugbank_id']: row['aliases'] for row in newrows} # switch from rows to newrows\n",
    "print(len(alias_dict))\n",
    "print(alias_dict.__class__)\n",
    "\n",
    "with open(aliasoutf, 'w') as fp:\n",
    "    json.dump(alias_dict, fp, indent=2, sort_keys=True)"
   ],
   "outputs": [],
   "metadata": {}
  },
  {
   "cell_type": "code",
   "execution_count": null,
   "source": [
    "import itertools\n",
    "out = dict(itertools.islice(alias_dict.items(), 5)) \n",
    "display(out)"
   ],
   "outputs": [],
   "metadata": {
    "scrolled": true
   }
  },
  {
   "cell_type": "code",
   "execution_count": null,
   "source": [
    "def collapse_list_values(row):\n",
    "    for key, value in row.items():\n",
    "        if isinstance(value, list):\n",
    "            row[key] = '|'.join(value)\n",
    "    return row\n",
    "\n",
    "rows = list(map(collapse_list_values, rows))"
   ],
   "outputs": [],
   "metadata": {}
  },
  {
   "cell_type": "code",
   "execution_count": null,
   "source": [
    "display(rows.__class__)\n",
    "display(rows[:2])\n",
    "\n"
   ],
   "outputs": [],
   "metadata": {}
  },
  {
   "cell_type": "code",
   "execution_count": null,
   "source": [
    "columns = ['drugbank_id', 'name', 'indication']\n",
    "drugbank_df = pd.DataFrame.from_dict(rows)[columns]\n",
    "drugbank_df.head(10)"
   ],
   "outputs": [],
   "metadata": {
    "scrolled": false
   }
  },
  {
   "cell_type": "code",
   "execution_count": null,
   "source": [
    "# write drugbank indications\n",
    "path = os.path.join(savepath, 'drugbank-indication.tsv')\n",
    "drugbank_df.to_csv(path, sep='\\t', index=False)"
   ],
   "outputs": [],
   "metadata": {}
  },
  {
   "cell_type": "code",
   "execution_count": null,
   "source": [
    "print(path)\n",
    "print(drugbank_df.shape)\n"
   ],
   "outputs": [],
   "metadata": {}
  },
  {
   "cell_type": "code",
   "execution_count": null,
   "source": [
    "columns = ['drugbank_id', 'name', 'type', 'groups', 'atc_codes', 'categories', 'inchikey', 'inchi', 'description']\n",
    "drugbank_df = pd.DataFrame.from_dict(rows)[columns]\n",
    "display(pd.DataFrame(drugbank_df['type'].value_counts()))\n",
    "display(drugbank_df.head(10))\n"
   ],
   "outputs": [],
   "metadata": {
    "scrolled": true
   }
  },
  {
   "cell_type": "code",
   "execution_count": null,
   "source": [
    "drugbank_slim_df = drugbank_df[\n",
    "    #drugbank_df.groups.map(lambda x: 'approved' in x) &\n",
    "    #drugbank_df.inchi.map(lambda x: x is not None) &\n",
    "    drugbank_df.type.map(lambda x: x == 'small molecule')\n",
    "]\n",
    "\n",
    "display(drugbank_slim_df.shape)\n",
    "display(drugbank_slim_df.head())"
   ],
   "outputs": [],
   "metadata": {
    "scrolled": false
   }
  },
  {
   "cell_type": "code",
   "execution_count": null,
   "source": [
    "# write drugbank tsv\n",
    "path = os.path.join(savepath, 'drugbank.tsv')\n",
    "drugbank_df.to_csv(path, sep='\\t', index=False)\n",
    "print(path)\n",
    "print(drugbank_df.shape)\n",
    "\n",
    "# write slim drugbank tsv\n",
    "path = os.path.join(savepath, 'drugbank-slim.tsv')\n",
    "drugbank_slim_df.to_csv(path, sep='\\t', index=False)\n",
    "print(path)\n",
    "print(drugbank_slim_df.shape)\n"
   ],
   "outputs": [],
   "metadata": {}
  },
  {
   "cell_type": "code",
   "execution_count": null,
   "source": [
    "protein_rows = list()\n",
    "for i, drug in enumerate(root):\n",
    "    drugbank_id = drug.findtext(ns + \"drugbank-id[@primary='true']\")\n",
    "    for category in ['target', 'enzyme', 'carrier', 'transporter']:\n",
    "        proteins = drug.findall('{ns}{cat}s/{ns}{cat}'.format(ns=ns, cat=category))\n",
    "        for protein in proteins:\n",
    "            row = {'drugbank_id': drugbank_id, 'category': category}\n",
    "            row['organism'] = protein.findtext('{}organism'.format(ns))\n",
    "            row['known_action'] = protein.findtext('{}known-action'.format(ns))\n",
    "            actions = protein.findall('{ns}actions/{ns}action'.format(ns=ns))\n",
    "            row['actions'] = '|'.join(action.text for action in actions)\n",
    "            uniprot_ids = [polypep.text for polypep in protein.findall(\n",
    "                \"{ns}polypeptide/{ns}external-identifiers/{ns}external-identifier[{ns}resource='UniProtKB']/{ns}identifier\".format(ns=ns))]            \n",
    "            if len(uniprot_ids) != 1:\n",
    "                continue\n",
    "            row['uniprot_id'] = uniprot_ids[0]\n",
    "            #ref_text = protein.findtext(\"{ns}references[@format='textile']\".format(ns=ns))\n",
    "            #pmids = re.findall(r'pubmed/([0-9]+)', ref_text)\n",
    "            #row['pubmed_ids'] = '|'.join(pmids)\n",
    "            protein_rows.append(row)\n",
    "\n",
    "protein_df = pd.DataFrame.from_dict(protein_rows)"
   ],
   "outputs": [],
   "metadata": {}
  },
  {
   "cell_type": "code",
   "execution_count": null,
   "source": [
    "display(protein_df[15:24])"
   ],
   "outputs": [],
   "metadata": {
    "scrolled": true
   }
  },
  {
   "cell_type": "code",
   "execution_count": null,
   "source": [
    "columns = ['drugbank_id', 'category', 'uniprot_id', 'organism']\n",
    "entrez_df = protein_df[columns]"
   ],
   "outputs": [],
   "metadata": {}
  },
  {
   "cell_type": "code",
   "execution_count": null,
   "source": [
    "entrez_df.head()"
   ],
   "outputs": [],
   "metadata": {
    "scrolled": true
   }
  },
  {
   "cell_type": "code",
   "execution_count": null,
   "source": [
    "path = os.path.join(savepath, 'proteins.tsv')\n",
    "#entrez_df.to_csv(path, sep=',', index=False)\n",
    "entrez_df.to_csv(path, sep='\\t', index=False)\n",
    "\n",
    "print(path)\n",
    "print(entrez_df.shape)\n"
   ],
   "outputs": [],
   "metadata": {}
  },
  {
   "cell_type": "code",
   "execution_count": null,
   "source": [
    "len(set(entrez_df.drugbank_id))"
   ],
   "outputs": [],
   "metadata": {}
  },
  {
   "cell_type": "code",
   "execution_count": null,
   "source": [
    "len(set(entrez_df.uniprot_id))"
   ],
   "outputs": [],
   "metadata": {}
  },
  {
   "cell_type": "code",
   "execution_count": null,
   "source": [
    "len(entrez_df)"
   ],
   "outputs": [],
   "metadata": {}
  },
  {
   "cell_type": "code",
   "execution_count": null,
   "source": [],
   "outputs": [],
   "metadata": {}
  },
  {
   "cell_type": "markdown",
   "source": [
    "next steps for existing fields"
   ],
   "metadata": {}
  },
  {
   "cell_type": "code",
   "execution_count": null,
   "source": [
    "# parse out atc_codes, groups and indications into one-hot encoded versions\n",
    "\n"
   ],
   "outputs": [],
   "metadata": {}
  },
  {
   "cell_type": "markdown",
   "source": [
    "### fields to consider adding (see excel examples if needed)\n",
    "\n",
    "targets\n",
    "enzymes\n",
    "carriers\n",
    "transporters\n",
    "\n",
    "pathways\n",
    "\tdrugs\n",
    "\tenzymes\n",
    "\n",
    "reactions\n",
    "\n",
    "drug-interactions\n",
    "\tdrug-interaction\n",
    "\t\tdrugbank-id\n",
    "\t\tname\n",
    "\t\tdescription\n",
    "\n",
    "food-interactions\n",
    "\tfood-interaction\n",
    "\n",
    "ahfs-codes\n",
    "protein-binding\n",
    "\n",
    "absorption\n",
    "toxicity\n",
    "metabolism\n",
    "mechanism-of-action\n",
    "pharmacodynamics\n",
    "indication\n",
    "\n",
    "average-mass\n",
    "monoisotopic-mass\n",
    "\n",
    "calculated-properties\n",
    "\tkind, value\n",
    "\tMolecular Weight, 2180.2853\n",
    "\tSMILES, CC[C@H]...\n",
    "\tMolecular Formula, C98H138N24O33\n",
    "\tPolar Surface Area (PSA), 901.57\n",
    "\n",
    "external-identifiers\n",
    "\n",
    "classifiation\n",
    "\tdirect-parent\n",
    "\tkingdom\n",
    "\tsuperclass\n",
    "\tclass\n",
    "\tsubclass\n",
    "\n",
    "category\n",
    "\tcategory-name\n",
    "\tmesh-id\n",
    "\n",
    "product\n",
    "\troute\n",
    "\tapproved\n",
    "\tdosage-form"
   ],
   "metadata": {}
  }
 ],
 "metadata": {
  "kernelspec": {
   "name": "python3",
   "display_name": "Python 3.7.3 64-bit ('base': conda)"
  },
  "language_info": {
   "codemirror_mode": {
    "name": "ipython",
    "version": 3
   },
   "file_extension": ".py",
   "mimetype": "text/x-python",
   "name": "python",
   "nbconvert_exporter": "python",
   "pygments_lexer": "ipython3",
   "version": "3.7.3"
  },
  "interpreter": {
   "hash": "dca0ade3e726a953b501b15e8e990130d2b7799f14cfd9f4271676035ebe5511"
  }
 },
 "nbformat": 4,
 "nbformat_minor": 2
}